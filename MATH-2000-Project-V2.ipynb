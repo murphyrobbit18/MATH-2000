{
 "cells": [
  {
   "cell_type": "code",
   "execution_count": 95,
   "id": "e692afa9-9271-4122-a927-800a564767e5",
   "metadata": {},
   "outputs": [],
   "source": [
    "%display latex"
   ]
  },
  {
   "cell_type": "markdown",
   "id": "4b659dcd-1447-4e47-98b5-24418f07bb0a",
   "metadata": {},
   "source": [
    "### Proof (1)"
   ]
  },
  {
   "cell_type": "markdown",
   "id": "7f5a187e-efd8-4992-afd8-abe72592e95d",
   "metadata": {},
   "source": [
    "According to the Mean Value Theorem, if $f:[a,b]\\rightarrow\\mathbb{R}$ is continuous on $[a,b]$ and differentiable on $(a,b)$, then there is a $c\\in(a,b)$ such that $f(b)-f(a)=f'(c)(b-a)$."
   ]
  },
  {
   "cell_type": "markdown",
   "id": "44f95e95-1846-41c1-892a-7b0c56a5d672",
   "metadata": {},
   "source": [
    "Furthermore, the Mean Value Theorem can be generalized to where, if $f:[a,b]\\rightarrow\\mathbb{R}$ and $g:[a,b]\\rightarrow\\mathbb{R}$ are continuous on $[a,b]$ and differentiable on $(a,b)$, then $\\exists{c}\\in(a,b)$ such that $g'(c)\\bigl(f(b)-f(a)\\bigl)=f'(c)\\bigl(g(b)-g(a)\\bigl)$."
   ]
  },
  {
   "cell_type": "markdown",
   "id": "59c3b9a2-74d5-40ad-88ee-38bca3c121ed",
   "metadata": {},
   "source": [
    "Let $f(x)=\\ln(1+x)$. We know,"
   ]
  },
  {
   "cell_type": "code",
   "execution_count": 96,
   "id": "66a2a40c-36c8-4919-84ed-ac4e33c3daa5",
   "metadata": {},
   "outputs": [
    {
     "data": {
      "text/html": [
       "<html>\\(\\displaystyle f(0)=0\\)</html>"
      ],
      "text/latex": [
       "$\\displaystyle f(0)=0$"
      ],
      "text/plain": [
       "f(0)=0"
      ]
     },
     "metadata": {},
     "output_type": "display_data"
    },
    {
     "data": {
      "text/html": [
       "<html>\\(\\displaystyle f'(x)=\\frac{1}{x + 1}\\)</html>"
      ],
      "text/latex": [
       "$\\displaystyle f'(x)=\\frac{1}{x + 1}$"
      ],
      "text/plain": [
       "f'(x)=\\frac{1}{x + 1}"
      ]
     },
     "metadata": {},
     "output_type": "display_data"
    }
   ],
   "source": [
    "x = var('x')\n",
    "y= var('y')\n",
    "eqn = ln(1+x)\n",
    "sol1 = eqn.subs(x=0)\n",
    "sol2 = diff(eqn,x)\n",
    "show(LatexExpr(f\"f(0)={latex(sol1)}\"))\n",
    "show(LatexExpr(f\"f'(x)={latex(sol2)}\"))"
   ]
  },
  {
   "cell_type": "markdown",
   "id": "9c67e571-252c-4c62-9235-0516c9d4481d",
   "metadata": {},
   "source": [
    "By the Mean Value Theorem for $x\\neq{0}$,"
   ]
  },
  {
   "cell_type": "markdown",
   "id": "e6c22bad-d16b-4dda-adf5-1de1bf5d2cf0",
   "metadata": {},
   "source": [
    "$f(x)=f(0)+f'(c)(x-0)$"
   ]
  },
  {
   "cell_type": "code",
   "execution_count": 97,
   "id": "37139d25-1b5a-45af-8eda-659692371575",
   "metadata": {},
   "outputs": [
    {
     "data": {
      "text/html": [
       "<html>\\(\\displaystyle f(x)=0+\\frac{1}{c + 1}x\\)</html>"
      ],
      "text/latex": [
       "$\\displaystyle f(x)=0+\\frac{1}{c + 1}x$"
      ],
      "text/plain": [
       "f(x)=0+\\frac{1}{c + 1}x"
      ]
     },
     "metadata": {},
     "output_type": "display_data"
    },
    {
     "data": {
      "text/html": [
       "<html>\\(\\displaystyle f(x)=\\frac{x}{c + 1}\\quad\\text{where}\\; c\\in(0,|x|)\\)</html>"
      ],
      "text/latex": [
       "$\\displaystyle f(x)=\\frac{x}{c + 1}\\quad\\text{where}\\; c\\in(0,|x|)$"
      ],
      "text/plain": [
       "f(x)=\\frac{x}{c + 1}\\quad\\text{where}\\; c\\in(0,|x|)"
      ]
     },
     "metadata": {},
     "output_type": "display_data"
    }
   ],
   "source": [
    "c = var('c')\n",
    "sol3 = eqn.subs(x=c)\n",
    "sol3 = diff(sol3,c)\n",
    "sol4 = sol3*x\n",
    "show(LatexExpr(f\"f(x)={latex(sol1)}+{latex(sol3)}x\"))\n",
    "show(LatexExpr(f\"f(x)={latex(sol4)}\\\\quad\\\\text{{where}}\\\\; c\\\\in(0,|x|)\"))"
   ]
  },
  {
   "cell_type": "markdown",
   "id": "e66597a5-2ab1-4aae-90de-ad6b3a42244a",
   "metadata": {},
   "source": [
    "If $x>0$ and $c\\in(0,x)$, we are left with the inequality $0<c<x$. We can then manipulate this inequality,"
   ]
  },
  {
   "cell_type": "markdown",
   "id": "faa3ca1d-196c-47f4-8fa7-f1e5e1d8e767",
   "metadata": {},
   "source": [
    "$1+x>1+c>1\\\\ \\frac{1}{1+x}<\\frac{1}{1+c}<1\\\\ \\frac{x}{1+x}<\\frac{x}{1+c}<x$"
   ]
  },
  {
   "cell_type": "markdown",
   "id": "ef21fa2f-74ae-4735-abb2-2345a9a863e0",
   "metadata": {},
   "source": [
    "Or, if $x<0$ and $c\\in(-x,0)$,"
   ]
  },
  {
   "cell_type": "markdown",
   "id": "1a774cd6-01f3-4e58-a7d7-2e1729e4d97c",
   "metadata": {},
   "source": [
    "$1+x<1+c<1\\\\ \\frac{1}{1+x}>\\frac{1}{1+c}>1\\\\ \\frac{x}{1+x}>\\frac{x}{1+c}>x$"
   ]
  },
  {
   "cell_type": "markdown",
   "id": "9eb2ca75-95f1-4b20-9592-d0f538614932",
   "metadata": {},
   "source": [
    "Since $f(x)=\\ln(1+x)=\\frac{x}{1+c}$ where $c\\in(0,|x|)$, we are left with the inequalities,"
   ]
  },
  {
   "cell_type": "markdown",
   "id": "d3272b53-cbe3-4a8e-b66a-1afb9e03b558",
   "metadata": {},
   "source": [
    "$\\frac{x}{1+x}<\\ln(x+1)<x$ and $\\frac{x}{1+x}>\\ln(x+1)>x$"
   ]
  },
  {
   "cell_type": "code",
   "execution_count": 130,
   "id": "747e4e41-139c-424e-b29c-fc82a5cc4f2d",
   "metadata": {},
   "outputs": [
    {
     "data": {
      "image/png": "[encoded data removed]",
      "text/plain": [
       "Graphics object consisting of 3 graphics primitives"
      ]
     },
     "metadata": {},
     "output_type": "display_data"
    }
   ],
   "source": [
    "plot1 = plot(x/(1+x),color='red')\n",
    "plot2 = plot(ln(1+x),color='blue')\n",
    "plot3 = plot(x,color='green')\n",
    "show(plot1+plot2+plot3,ymin=-2,ymax=2)\n",
    "# need to put a vertical line at x=-1, or shade the region or something\n",
    "# also put a legend here"
   ]
  },
  {
   "cell_type": "markdown",
   "id": "17f54574-b13e-4429-a5ef-8f1ea6b29689",
   "metadata": {},
   "source": [
    "As shown, these inequalities are valid $\\forall{x>-1}$. Therefore,"
   ]
  },
  {
   "cell_type": "markdown",
   "id": "889240c9-0d95-43cb-82bd-aa443a783e16",
   "metadata": {},
   "source": [
    "$\\textbf{(1)}\\;\\frac{x}{1+x}\\leq\\ln(1+x)\\leq{x}\\quad\\forall{x>-1}$"
   ]
  },
  {
   "cell_type": "markdown",
   "id": "550a05da-3e09-456e-9a05-f626598e96b5",
   "metadata": {},
   "source": [
    "From **(1)**, we can restrict the inequality from $x>-1$ to $x>0$. Then we have,"
   ]
  },
  {
   "cell_type": "markdown",
   "id": "de9d9d7a-f486-4abb-ad63-36612db43977",
   "metadata": {},
   "source": [
    "$\\textbf{(2)}\\;\\frac{x}{1+\\frac{x}{2}}<\\ln(1+x)\\quad\\forall{x>0}\\\\\n",
    "\\textbf{(3)}\\;\\frac{x}{1+\\frac{x}{2}}>\\ln(1+x)\\quad\\text{for}\\;{-1<x<0}$"
   ]
  },
  {
   "cell_type": "markdown",
   "id": "865b3542-0d35-4174-b61d-9905bfe5fa55",
   "metadata": {},
   "source": [
    "### Proof (2)"
   ]
  },
  {
   "cell_type": "markdown",
   "id": "13d26f25-e368-48f3-8804-f6fd00650bc3",
   "metadata": {},
   "source": [
    "Take $f(x)=\\ln(1+x)-\\frac{x}{1+\\frac{x}{2}}$. We know that,"
   ]
  },
  {
   "cell_type": "code",
   "execution_count": 99,
   "id": "c8393e11-2e38-4b92-9703-5f742daee777",
   "metadata": {},
   "outputs": [],
   "source": [
    "f(x) = ln(1+x)"
   ]
  },
  {
   "cell_type": "code",
   "execution_count": 100,
   "id": "acf7b7cb-e8c5-41a1-a31f-83d42989d80d",
   "metadata": {},
   "outputs": [
    {
     "data": {
      "text/html": [
       "<html>\\(\\displaystyle \\frac{1}{x + 1}\\)</html>"
      ],
      "text/latex": [
       "$\\displaystyle \\frac{1}{x + 1}$"
      ],
      "text/plain": [
       "1/(x + 1)"
      ]
     },
     "execution_count": 100,
     "metadata": {},
     "output_type": "execute_result"
    }
   ],
   "source": [
    "fp(x) = diff(f(x)); fp(x)"
   ]
  },
  {
   "cell_type": "code",
   "execution_count": 101,
   "id": "13fafcd6-667d-4f0b-a764-daf4bce4b371",
   "metadata": {},
   "outputs": [
    {
     "data": {
      "text/html": [
       "<html>\\(\\displaystyle \\frac{2 \\, x}{x + 2}\\)</html>"
      ],
      "text/latex": [
       "$\\displaystyle \\frac{2 \\, x}{x + 2}$"
      ],
      "text/plain": [
       "2*x/(x + 2)"
      ]
     },
     "execution_count": 101,
     "metadata": {},
     "output_type": "execute_result"
    }
   ],
   "source": [
    "g(x) = (x/(1+x/2)); g(x)"
   ]
  },
  {
   "cell_type": "code",
   "execution_count": 102,
   "id": "1b9b3d5f-468e-4d7b-8d96-1ba7567bd2c0",
   "metadata": {},
   "outputs": [],
   "source": [
    "gp(x) = diff(g(x)).expand().simplify_full()\n",
    "gp(x) = gp(x)/4; "
   ]
  },
  {
   "cell_type": "code",
   "execution_count": 103,
   "id": "c2ece5d0-51cf-450d-8c33-ab58f698150f",
   "metadata": {},
   "outputs": [
    {
     "data": {
      "text/html": [
       "<html>\\(\\displaystyle f'(x)=-\\frac{1}{x^{2} + 4 \\, x + 4} + \\frac{1}{x + 1}\\)</html>"
      ],
      "text/latex": [
       "$\\displaystyle f'(x)=-\\frac{1}{x^{2} + 4 \\, x + 4} + \\frac{1}{x + 1}$"
      ],
      "text/plain": [
       "f'(x)=-\\frac{1}{x^{2} + 4 \\, x + 4} + \\frac{1}{x + 1}"
      ]
     },
     "metadata": {},
     "output_type": "display_data"
    }
   ],
   "source": [
    "hp(x) = fp(x) - gp(x)\n",
    "show(LatexExpr(f\"f'(x)={latex(hp(x))}\"))"
   ]
  },
  {
   "cell_type": "markdown",
   "id": "1f5cc189-fbef-4bf0-89bd-93d746ffacf6",
   "metadata": {},
   "source": [
    "Notice that $\\forall{x>0}$, we have the following inequality,"
   ]
  },
  {
   "cell_type": "markdown",
   "id": "c8d6ab66-d7dd-4465-bdf6-2343459c5137",
   "metadata": {},
   "source": [
    "$1+x < 4 + 4x + x^2$"
   ]
  },
  {
   "cell_type": "code",
   "execution_count": 104,
   "id": "945f0aef-711a-46c3-9d09-2e8f6d0df103",
   "metadata": {},
   "outputs": [
    {
     "data": {
      "text/html": [
       "<html>\\(\\displaystyle \\frac{1}{x + 1} > \\frac{1}{x^{2} + 4 \\, x + 4}\\)</html>"
      ],
      "text/latex": [
       "$\\displaystyle \\frac{1}{x + 1} > \\frac{1}{x^{2} + 4 \\, x + 4}$"
      ],
      "text/plain": [
       "(1/(x + 1)) > (1/(x^2 + 4*x + 4))"
      ]
     },
     "execution_count": 104,
     "metadata": {},
     "output_type": "execute_result"
    }
   ],
   "source": [
    "fp(x) > gp(x)"
   ]
  },
  {
   "cell_type": "code",
   "execution_count": 105,
   "id": "8ee3cb50-4589-4056-bea8-61c70af91a22",
   "metadata": {},
   "outputs": [
    {
     "data": {
      "text/html": [
       "<html>\\(\\displaystyle \\frac{1}{x + 1}-\\frac{1}{x^{2} + 4 \\, x + 4}>0\\)</html>"
      ],
      "text/latex": [
       "$\\displaystyle \\frac{1}{x + 1}-\\frac{1}{x^{2} + 4 \\, x + 4}>0$"
      ],
      "text/plain": [
       "\\frac{1}{x + 1}-\\frac{1}{x^{2} + 4 \\, x + 4}>0"
      ]
     },
     "metadata": {},
     "output_type": "display_data"
    }
   ],
   "source": [
    "show(LatexExpr(f\"{latex(fp(x))}-{latex(gp(x))}>0\"))"
   ]
  },
  {
   "cell_type": "markdown",
   "id": "5a360a9f-2f29-460c-8129-6779f0823e82",
   "metadata": {},
   "source": [
    "For $\\forall{x>0}$ we know that $f'(x)>0$. Additionally, if $x=0$ then $x+1=x^2+4x+4$, and"
   ]
  },
  {
   "cell_type": "code",
   "execution_count": 106,
   "id": "2645664f-c1f5-4d63-97ad-69aaf6635844",
   "metadata": {},
   "outputs": [
    {
     "data": {
      "text/html": [
       "<html>\\(\\displaystyle \\frac{1}{x + 1}-\\frac{1}{x^{2} + 4 \\, x + 4}=0\\)</html>"
      ],
      "text/latex": [
       "$\\displaystyle \\frac{1}{x + 1}-\\frac{1}{x^{2} + 4 \\, x + 4}=0$"
      ],
      "text/plain": [
       "\\frac{1}{x + 1}-\\frac{1}{x^{2} + 4 \\, x + 4}=0"
      ]
     },
     "metadata": {},
     "output_type": "display_data"
    }
   ],
   "source": [
    "show(LatexExpr(f\"{latex(fp(x))}-{latex(gp(x))}=0\"))"
   ]
  },
  {
   "cell_type": "markdown",
   "id": "835c82bf-617a-4de4-a43e-98cf55a0e736",
   "metadata": {},
   "source": [
    "Which means $f'(x)=0$ for $x=0$."
   ]
  },
  {
   "cell_type": "code",
   "execution_count": 136,
   "id": "b9717f67-3b01-4d62-a60a-c454eaeb2750",
   "metadata": {},
   "outputs": [
    {
     "data": {
      "image/png": "[encoded data removed]",
      "text/plain": [
       "Graphics object consisting of 1 graphics primitive"
      ]
     },
     "execution_count": 136,
     "metadata": {},
     "output_type": "execute_result"
    }
   ],
   "source": [
    "plot(h(x), xmin=0, xmax=1)\n",
    "# this graph is supposed to show f(x) is monotonic and increasing for x>0\n",
    "# not sure if we need to keep it"
   ]
  },
  {
   "cell_type": "markdown",
   "id": "1db9bec7-f648-4f1c-9978-6487718317dd",
   "metadata": {},
   "source": [
    "For $f'(x)>0$, we know $f(x)$ is monotone and increasing $\\forall{x>0}$. We also know that $f(x)>f(0)$,"
   ]
  },
  {
   "cell_type": "markdown",
   "id": "5d2b0363-2429-454b-a499-6c27d7d5c3f0",
   "metadata": {},
   "source": [
    "$\\ln(1+x)-\\frac{x}{1+\\frac{x}{2}}>\\ln(1+0)-\\frac{0}{1+\\frac{0}{2}}$"
   ]
  },
  {
   "cell_type": "code",
   "execution_count": 107,
   "id": "a4a37c6d-1601-4b50-802b-ae44e3cdf27a",
   "metadata": {},
   "outputs": [
    {
     "data": {
      "text/html": [
       "<html>\\(\\displaystyle \\ln(x+1)-\\frac{x}{1+\\frac{x}{2}}>0\\)</html>"
      ],
      "text/latex": [
       "$\\displaystyle \\ln(x+1)-\\frac{x}{1+\\frac{x}{2}}>0$"
      ],
      "text/plain": [
       "\\ln(x+1)-\\frac{x}{1+\\frac{x}{2}}>0"
      ]
     },
     "metadata": {},
     "output_type": "display_data"
    }
   ],
   "source": [
    "h(x) = f(x) - g(x)\n",
    "show(LatexExpr(f\"\\\\ln(x+1)-\\\\frac{{x}}{{1+\\\\frac{{x}}{{2}}}}>{latex(h(0))}\"))"
   ]
  },
  {
   "cell_type": "markdown",
   "id": "c0a7731f-78e8-4a40-a120-1dcc15438d9e",
   "metadata": {},
   "source": [
    "Therefore, we get the inequality,"
   ]
  },
  {
   "cell_type": "markdown",
   "id": "77698031-a885-4f67-9485-bf36d0cb5212",
   "metadata": {},
   "source": [
    "$\\textbf{(2)}\\;\\frac{x}{1+\\frac{x}{2}}<\\ln(1+x)\\quad\\forall{x>0}$"
   ]
  },
  {
   "cell_type": "markdown",
   "id": "3aa371a6-ad8e-437f-9aae-6260e1967e07",
   "metadata": {},
   "source": [
    "### Proof (3)"
   ]
  },
  {
   "cell_type": "code",
   "execution_count": 131,
   "id": "57e669d2-3b79-45a3-a2cc-fbdbf2b06eff",
   "metadata": {},
   "outputs": [],
   "source": [
    "# put all the other graphs here"
   ]
  },
  {
   "cell_type": "markdown",
   "id": "a38f388b-6544-453d-95a5-fc892abb93ee",
   "metadata": {},
   "source": [
    "### Proof (5)"
   ]
  },
  {
   "cell_type": "markdown",
   "id": "888c801f-4f84-48cd-a7f5-8fe9e2123de2",
   "metadata": {},
   "source": [
    "If we manipulate the inequality $\\ln(1+x)\\leq{x}$ where $\\forall{x>-1}$, we have $\\ln(x)\\leq{x-1}$ where $\\forall{x>0}$."
   ]
  },
  {
   "cell_type": "code",
   "execution_count": 110,
   "id": "ab38b50f-d004-4c0c-83a7-194d3233589f",
   "metadata": {},
   "outputs": [
    {
     "data": {
      "text/html": [
       "<html>\\(\\displaystyle -x + \\log\\left(x\\right) + 1\\)</html>"
      ],
      "text/latex": [
       "$\\displaystyle -x + \\log\\left(x\\right) + 1$"
      ],
      "text/plain": [
       "-x + log(x) + 1"
      ]
     },
     "execution_count": 110,
     "metadata": {},
     "output_type": "execute_result"
    }
   ],
   "source": [
    "f2(x) = ln(x) -x + 1 ;f2(x)"
   ]
  },
  {
   "cell_type": "markdown",
   "id": "eec03d05-f2d8-48a6-80b2-0e0b4b14da2b",
   "metadata": {},
   "source": [
    "Let $f(x)=\\ln{x}\\leq{x-1}$ where $\\forall{x>0}$. We know,"
   ]
  },
  {
   "cell_type": "code",
   "execution_count": 111,
   "id": "abef8b58-bcb3-4974-9e62-b1f1cb3badde",
   "metadata": {},
   "outputs": [
    {
     "data": {
      "text/html": [
       "<html>\\(\\displaystyle f'(x)=\\frac{1}{x} - 1\\)</html>"
      ],
      "text/latex": [
       "$\\displaystyle f'(x)=\\frac{1}{x} - 1$"
      ],
      "text/plain": [
       "f'(x)=\\frac{1}{x} - 1"
      ]
     },
     "metadata": {},
     "output_type": "display_data"
    }
   ],
   "source": [
    "f2p(x) = diff(f2(x))\n",
    "show(LatexExpr(f\"f'(x)={latex(f2p(x))}\"))"
   ]
  },
  {
   "cell_type": "markdown",
   "id": "b0bb182f-3a2e-4593-aef8-189b6764080a",
   "metadata": {},
   "source": [
    "If we let $\\frac{1}{x}-1=0$, we get"
   ]
  },
  {
   "cell_type": "code",
   "execution_count": 112,
   "id": "9cabbe82-ef19-4f05-bac9-054cc4f91de3",
   "metadata": {},
   "outputs": [
    {
     "data": {
      "text/html": [
       "<html>\\(\\displaystyle \\left[x = 1\\right]\\)</html>"
      ],
      "text/latex": [
       "$\\displaystyle \\left[x = 1\\right]$"
      ],
      "text/plain": [
       "[x == 1]"
      ]
     },
     "execution_count": 112,
     "metadata": {},
     "output_type": "execute_result"
    }
   ],
   "source": [
    "solve(f2p(x),x)"
   ]
  },
  {
   "cell_type": "markdown",
   "id": "d1ee7a6c-6dc2-4ae3-813a-27ca5a7dead3",
   "metadata": {},
   "source": [
    "If $0<x\\leq1$, $f'(x)\\geq0$. Therefore, the function $f$ is increasing on the interval $(0,1]$ when $x>1$ and $f'(x)<0$, and decreasing on the interval $(1,\\infty)$"
   ]
  },
  {
   "cell_type": "markdown",
   "id": "66111f64-a9fe-48d9-ae57-77513c97d3d2",
   "metadata": {},
   "source": [
    "Letting $x=1$, we have"
   ]
  },
  {
   "cell_type": "code",
   "execution_count": 113,
   "id": "b9062ba3-2303-4c8a-9c2e-ea299bf751c3",
   "metadata": {},
   "outputs": [
    {
     "data": {
      "text/html": [
       "<html>\\(\\displaystyle f(1)=\\ln(1)-1+1=0\\)</html>"
      ],
      "text/latex": [
       "$\\displaystyle f(1)=\\ln(1)-1+1=0$"
      ],
      "text/plain": [
       "f(1)=\\ln(1)-1+1=0"
      ]
     },
     "metadata": {},
     "output_type": "display_data"
    }
   ],
   "source": [
    "show(LatexExpr(f\"f(1)=\\\\ln(1)-1+1={latex(f2(1))}\"))"
   ]
  },
  {
   "cell_type": "markdown",
   "id": "010455c0-0fcb-45f8-b93c-a0c979dab577",
   "metadata": {},
   "source": [
    "This gives means $(1,0)$ is a critical point of the function $f(x)$, specifically a local maximum. Thus, we can conclude $f(x)\\leq0$ where $\\forall{x>0}$."
   ]
  },
  {
   "cell_type": "code",
   "execution_count": 133,
   "id": "eae24d1c-f693-48f2-bbfd-dd513508b8ea",
   "metadata": {},
   "outputs": [],
   "source": [
    "# f(x) is undefined for x=0, which is what causes the \"WARNING: When plotting, failed to evaluate function\" message\n",
    "# this is likely what's causing the error message on the other graphs\n",
    "# not sure what the best way to fix this error is right now, besides just avoiding negative values of x"
   ]
  },
  {
   "cell_type": "code",
   "execution_count": 129,
   "id": "2d20fb89-f725-42a5-89e3-9fa6a788c5eb",
   "metadata": {},
   "outputs": [
    {
     "data": {
      "image/png": "[encoded data removed]",
      "text/plain": [
       "Graphics object consisting of 1 graphics primitive"
      ]
     },
     "execution_count": 129,
     "metadata": {},
     "output_type": "execute_result"
    }
   ],
   "source": [
    "plot(f2(x),(x,0,2)) # WHY CAN'T I PLOT A POINT ON THIS GRAPH"
   ]
  },
  {
   "cell_type": "markdown",
   "id": "85a8059c-9d5e-418d-ab5a-f77a1f7b07b0",
   "metadata": {},
   "source": [
    "Substituting back the value of $f(x)$, we have,"
   ]
  },
  {
   "cell_type": "markdown",
   "id": "1920b63c-27c3-40c9-b7bb-def4a21ca6e4",
   "metadata": {},
   "source": [
    "$\\ln(x)-x+1\\leq0$"
   ]
  },
  {
   "cell_type": "markdown",
   "id": "54968602-b1dc-419d-818b-59be74a0db1b",
   "metadata": {},
   "source": [
    "Therefore,"
   ]
  },
  {
   "cell_type": "markdown",
   "id": "d45e0c08-2ae8-4916-aa60-ace9f384fb67",
   "metadata": {},
   "source": [
    "$\\textbf{(5)}\\;\\ln(1+x)\\leq{x}\\quad\\forall{x>-1}$"
   ]
  }
 ],
 "metadata": {
  "kernelspec": {
   "display_name": "SageMath 10.6",
   "language": "sage",
   "name": "sagemath"
  },
  "language_info": {
   "codemirror_mode": {
    "name": "ipython",
    "version": 3
   },
   "file_extension": ".py",
   "mimetype": "text/x-python",
   "name": "python",
   "nbconvert_exporter": "python",
   "pygments_lexer": "ipython3",
   "version": "3.12.5"
  }
 },
 "nbformat": 4,
 "nbformat_minor": 5
}
