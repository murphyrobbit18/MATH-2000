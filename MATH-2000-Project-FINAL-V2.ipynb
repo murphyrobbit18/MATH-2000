{
 "cells": [
  {
   "cell_type": "code",
   "execution_count": 1,
   "id": "e692afa9-9271-4122-a927-800a564767e5",
   "metadata": {},
   "outputs": [],
   "source": [
    "%display latex"
   ]
  },
  {
   "cell_type": "markdown",
   "id": "4b659dcd-1447-4e47-98b5-24418f07bb0a",
   "metadata": {},
   "source": [
    "### Proof (1)"
   ]
  },
  {
   "cell_type": "markdown",
   "id": "7f5a187e-efd8-4992-afd8-abe72592e95d",
   "metadata": {},
   "source": [
    "According to the Mean Value Theorem, if $f:[a,b]\\rightarrow\\mathbb{R}$ is continuous on $[a,b]$ and differentiable on $(a,b)$, then there is a $c\\in(a,b)$ such that $f(b)-f(a)=f'(c)(b-a)$."
   ]
  },
  {
   "cell_type": "markdown",
   "id": "44f95e95-1846-41c1-892a-7b0c56a5d672",
   "metadata": {},
   "source": [
    "Furthermore, the Mean Value Theorem can be generalized to where, if $f:[a,b]\\rightarrow\\mathbb{R}$ and $g:[a,b]\\rightarrow\\mathbb{R}$ are continuous on $[a,b]$ and differentiable on $(a,b)$, then $\\exists{c}\\in(a,b)$ such that $g'(c)\\bigl(f(b)-f(a)\\bigl)=f'(c)\\bigl(g(b)-g(a)\\bigl)$."
   ]
  },
  {
   "cell_type": "markdown",
   "id": "59c3b9a2-74d5-40ad-88ee-38bca3c121ed",
   "metadata": {},
   "source": [
    "Let $f(x)=\\ln(1+x)$. We know,"
   ]
  },
  {
   "cell_type": "code",
   "execution_count": 2,
   "id": "66a2a40c-36c8-4919-84ed-ac4e33c3daa5",
   "metadata": {},
   "outputs": [
    {
     "data": {
      "text/html": [
       "<html>\\(\\displaystyle f(0)=0\\)</html>"
      ],
      "text/latex": [
       "$\\displaystyle f(0)=0$"
      ],
      "text/plain": [
       "f(0)=0"
      ]
     },
     "metadata": {},
     "output_type": "display_data"
    },
    {
     "data": {
      "text/html": [
       "<html>\\(\\displaystyle f'(x)=\\frac{1}{x + 1}\\)</html>"
      ],
      "text/latex": [
       "$\\displaystyle f'(x)=\\frac{1}{x + 1}$"
      ],
      "text/plain": [
       "f'(x)=\\frac{1}{x + 1}"
      ]
     },
     "metadata": {},
     "output_type": "display_data"
    }
   ],
   "source": [
    "x = var('x')\n",
    "y= var('y')\n",
    "eqn = ln(1+x)\n",
    "sol1 = eqn.subs(x=0)\n",
    "sol2 = diff(eqn,x)\n",
    "show(LatexExpr(f\"f(0)={latex(sol1)}\"))\n",
    "show(LatexExpr(f\"f'(x)={latex(sol2)}\"))"
   ]
  },
  {
   "cell_type": "markdown",
   "id": "9c67e571-252c-4c62-9235-0516c9d4481d",
   "metadata": {},
   "source": [
    "By the Mean Value Theorem for $x\\neq{0}$,"
   ]
  },
  {
   "cell_type": "markdown",
   "id": "e6c22bad-d16b-4dda-adf5-1de1bf5d2cf0",
   "metadata": {},
   "source": [
    "$f(x)=f(0)+f'(c)(x-0)$"
   ]
  },
  {
   "cell_type": "code",
   "execution_count": 3,
   "id": "37139d25-1b5a-45af-8eda-659692371575",
   "metadata": {},
   "outputs": [
    {
     "data": {
      "text/html": [
       "<html>\\(\\displaystyle f(x)=0+\\frac{1}{c + 1}x\\)</html>"
      ],
      "text/latex": [
       "$\\displaystyle f(x)=0+\\frac{1}{c + 1}x$"
      ],
      "text/plain": [
       "f(x)=0+\\frac{1}{c + 1}x"
      ]
     },
     "metadata": {},
     "output_type": "display_data"
    },
    {
     "data": {
      "text/html": [
       "<html>\\(\\displaystyle f(x)=\\frac{x}{c + 1}\\quad\\text{where}\\; c\\in(0,|x|)\\)</html>"
      ],
      "text/latex": [
       "$\\displaystyle f(x)=\\frac{x}{c + 1}\\quad\\text{where}\\; c\\in(0,|x|)$"
      ],
      "text/plain": [
       "f(x)=\\frac{x}{c + 1}\\quad\\text{where}\\; c\\in(0,|x|)"
      ]
     },
     "metadata": {},
     "output_type": "display_data"
    }
   ],
   "source": [
    "c = var('c')\n",
    "sol3 = eqn.subs(x=c)\n",
    "sol3 = diff(sol3,c)\n",
    "sol4 = sol3*x\n",
    "show(LatexExpr(f\"f(x)={latex(sol1)}+{latex(sol3)}x\"))\n",
    "show(LatexExpr(f\"f(x)={latex(sol4)}\\\\quad\\\\text{{where}}\\\\; c\\\\in(0,|x|)\"))"
   ]
  },
  {
   "cell_type": "markdown",
   "id": "e66597a5-2ab1-4aae-90de-ad6b3a42244a",
   "metadata": {},
   "source": [
    "If $x>0$ and $c\\in(0,x)$, we are left with the inequality $0<c<x$. We can then manipulate this inequality,"
   ]
  },
  {
   "cell_type": "markdown",
   "id": "faa3ca1d-196c-47f4-8fa7-f1e5e1d8e767",
   "metadata": {},
   "source": [
    "$1+x>1+c>1\\\\ \\frac{1}{1+x}<\\frac{1}{1+c}<1\\\\ \\frac{x}{1+x}<\\frac{x}{1+c}<x$"
   ]
  },
  {
   "cell_type": "markdown",
   "id": "ef21fa2f-74ae-4735-abb2-2345a9a863e0",
   "metadata": {},
   "source": [
    "Or, if $x<0$ and $c\\in(-x,0)$,"
   ]
  },
  {
   "cell_type": "markdown",
   "id": "1a774cd6-01f3-4e58-a7d7-2e1729e4d97c",
   "metadata": {},
   "source": [
    "$1+x<1+c<1\\\\ \\frac{1}{1+x}>\\frac{1}{1+c}>1\\\\ \\frac{x}{1+x}>\\frac{x}{1+c}>x$"
   ]
  },
  {
   "cell_type": "markdown",
   "id": "9eb2ca75-95f1-4b20-9592-d0f538614932",
   "metadata": {},
   "source": [
    "Since $f(x)=\\ln(1+x)=\\frac{x}{1+c}$ where $c\\in(0,|x|)$, we are left with the inequalities,"
   ]
  },
  {
   "cell_type": "markdown",
   "id": "d3272b53-cbe3-4a8e-b66a-1afb9e03b558",
   "metadata": {},
   "source": [
    "$\\frac{x}{1+x}<\\ln(x+1)<x$ and $\\frac{x}{1+x}>\\ln(x+1)>x$"
   ]
  },
  {
   "cell_type": "code",
   "execution_count": 4,
   "id": "747e4e41-139c-424e-b29c-fc82a5cc4f2d",
   "metadata": {},
   "outputs": [
    {
     "data": {
      "image/png": "[encoded data removed]",
      "text/plain": [
       "Graphics object consisting of 3 graphics primitives"
      ]
     },
     "metadata": {},
     "output_type": "display_data"
    }
   ],
   "source": [
    "plot1 = plot(x/(1+x),color='red')\n",
    "plot2 = plot(ln(1+x),color='blue')\n",
    "plot3 = plot(x,color='green')\n",
    "show(plot1+plot2+plot3,ymin=-2,ymax=2)"
   ]
  },
  {
   "cell_type": "markdown",
   "id": "17f54574-b13e-4429-a5ef-8f1ea6b29689",
   "metadata": {},
   "source": [
    "As shown, these inequalities are valid $\\forall{x>-1}$. Therefore,"
   ]
  },
  {
   "cell_type": "markdown",
   "id": "889240c9-0d95-43cb-82bd-aa443a783e16",
   "metadata": {},
   "source": [
    "$\\textbf{(1)}\\;\\frac{x}{1+x}\\leq\\ln(1+x)\\leq{x}\\quad\\forall{x>-1}$"
   ]
  },
  {
   "cell_type": "markdown",
   "id": "550a05da-3e09-456e-9a05-f626598e96b5",
   "metadata": {},
   "source": [
    "From **(1)**, we can restrict the inequality from $x>-1$ to $x>0$. Then we have,"
   ]
  },
  {
   "cell_type": "markdown",
   "id": "de9d9d7a-f486-4abb-ad63-36612db43977",
   "metadata": {},
   "source": [
    "$\\textbf{(2)}\\;\\frac{x}{1+\\frac{x}{2}}<\\ln(1+x)\\quad\\forall{x>0}\\\\\n",
    "\\textbf{(3)}\\;\\frac{x}{1+\\frac{x}{2}}>\\ln(1+x)\\quad\\text{for}\\;{-1<x<0}$"
   ]
  },
  {
   "cell_type": "markdown",
   "id": "865b3542-0d35-4174-b61d-9905bfe5fa55",
   "metadata": {},
   "source": [
    "### Proof (2)"
   ]
  },
  {
   "cell_type": "markdown",
   "id": "13d26f25-e368-48f3-8804-f6fd00650bc3",
   "metadata": {},
   "source": [
    "Take $f(x)=\\ln(1+x)-\\frac{x}{1+\\frac{x}{2}}$. We know that,"
   ]
  },
  {
   "cell_type": "code",
   "execution_count": 5,
   "id": "c8393e11-2e38-4b92-9703-5f742daee777",
   "metadata": {},
   "outputs": [],
   "source": [
    "f(x) = ln(1+x)"
   ]
  },
  {
   "cell_type": "code",
   "execution_count": 6,
   "id": "acf7b7cb-e8c5-41a1-a31f-83d42989d80d",
   "metadata": {},
   "outputs": [
    {
     "data": {
      "text/html": [
       "<html>\\(\\displaystyle \\frac{1}{x + 1}\\)</html>"
      ],
      "text/latex": [
       "$\\displaystyle \\frac{1}{x + 1}$"
      ],
      "text/plain": [
       "1/(x + 1)"
      ]
     },
     "execution_count": 6,
     "metadata": {},
     "output_type": "execute_result"
    }
   ],
   "source": [
    "fp(x) = diff(f(x)); fp(x)"
   ]
  },
  {
   "cell_type": "code",
   "execution_count": 7,
   "id": "13fafcd6-667d-4f0b-a764-daf4bce4b371",
   "metadata": {},
   "outputs": [
    {
     "data": {
      "text/html": [
       "<html>\\(\\displaystyle \\frac{2 \\, x}{x + 2}\\)</html>"
      ],
      "text/latex": [
       "$\\displaystyle \\frac{2 \\, x}{x + 2}$"
      ],
      "text/plain": [
       "2*x/(x + 2)"
      ]
     },
     "execution_count": 7,
     "metadata": {},
     "output_type": "execute_result"
    }
   ],
   "source": [
    "g(x) = (x/(1+x/2)); g(x)"
   ]
  },
  {
   "cell_type": "code",
   "execution_count": 8,
   "id": "1b9b3d5f-468e-4d7b-8d96-1ba7567bd2c0",
   "metadata": {},
   "outputs": [],
   "source": [
    "gp(x) = diff(g(x)).expand().simplify_full()\n",
    "gp(x) = gp(x)/4; "
   ]
  },
  {
   "cell_type": "code",
   "execution_count": 9,
   "id": "c2ece5d0-51cf-450d-8c33-ab58f698150f",
   "metadata": {},
   "outputs": [
    {
     "data": {
      "text/html": [
       "<html>\\(\\displaystyle f'(x)=-\\frac{1}{x^{2} + 4 \\, x + 4} + \\frac{1}{x + 1}\\)</html>"
      ],
      "text/latex": [
       "$\\displaystyle f'(x)=-\\frac{1}{x^{2} + 4 \\, x + 4} + \\frac{1}{x + 1}$"
      ],
      "text/plain": [
       "f'(x)=-\\frac{1}{x^{2} + 4 \\, x + 4} + \\frac{1}{x + 1}"
      ]
     },
     "metadata": {},
     "output_type": "display_data"
    }
   ],
   "source": [
    "hp(x) = fp(x) - gp(x)\n",
    "show(LatexExpr(f\"f'(x)={latex(hp(x))}\"))"
   ]
  },
  {
   "cell_type": "markdown",
   "id": "1f5cc189-fbef-4bf0-89bd-93d746ffacf6",
   "metadata": {},
   "source": [
    "Notice that $\\forall{x>0}$, we have the following inequality,"
   ]
  },
  {
   "cell_type": "markdown",
   "id": "c8d6ab66-d7dd-4465-bdf6-2343459c5137",
   "metadata": {},
   "source": [
    "$1+x < 4 + 4x + x^2$"
   ]
  },
  {
   "cell_type": "code",
   "execution_count": 10,
   "id": "945f0aef-711a-46c3-9d09-2e8f6d0df103",
   "metadata": {},
   "outputs": [
    {
     "data": {
      "text/html": [
       "<html>\\(\\displaystyle \\frac{1}{x + 1} > \\frac{1}{x^{2} + 4 \\, x + 4}\\)</html>"
      ],
      "text/latex": [
       "$\\displaystyle \\frac{1}{x + 1} > \\frac{1}{x^{2} + 4 \\, x + 4}$"
      ],
      "text/plain": [
       "(1/(x + 1)) > (1/(x^2 + 4*x + 4))"
      ]
     },
     "execution_count": 10,
     "metadata": {},
     "output_type": "execute_result"
    }
   ],
   "source": [
    "fp(x) > gp(x)"
   ]
  },
  {
   "cell_type": "code",
   "execution_count": 11,
   "id": "8ee3cb50-4589-4056-bea8-61c70af91a22",
   "metadata": {},
   "outputs": [
    {
     "data": {
      "text/html": [
       "<html>\\(\\displaystyle \\frac{1}{x + 1}-\\frac{1}{x^{2} + 4 \\, x + 4}>0\\)</html>"
      ],
      "text/latex": [
       "$\\displaystyle \\frac{1}{x + 1}-\\frac{1}{x^{2} + 4 \\, x + 4}>0$"
      ],
      "text/plain": [
       "\\frac{1}{x + 1}-\\frac{1}{x^{2} + 4 \\, x + 4}>0"
      ]
     },
     "metadata": {},
     "output_type": "display_data"
    }
   ],
   "source": [
    "show(LatexExpr(f\"{latex(fp(x))}-{latex(gp(x))}>0\"))"
   ]
  },
  {
   "cell_type": "markdown",
   "id": "5a360a9f-2f29-460c-8129-6779f0823e82",
   "metadata": {},
   "source": [
    "For $\\forall{x>0}$ we know that $f'(x)>0$. Additionally, if $x=0$ then $x+1=x^2+4x+4$, and"
   ]
  },
  {
   "cell_type": "code",
   "execution_count": 12,
   "id": "2645664f-c1f5-4d63-97ad-69aaf6635844",
   "metadata": {},
   "outputs": [
    {
     "data": {
      "text/html": [
       "<html>\\(\\displaystyle \\frac{1}{x + 1}-\\frac{1}{x^{2} + 4 \\, x + 4}=0\\)</html>"
      ],
      "text/latex": [
       "$\\displaystyle \\frac{1}{x + 1}-\\frac{1}{x^{2} + 4 \\, x + 4}=0$"
      ],
      "text/plain": [
       "\\frac{1}{x + 1}-\\frac{1}{x^{2} + 4 \\, x + 4}=0"
      ]
     },
     "metadata": {},
     "output_type": "display_data"
    }
   ],
   "source": [
    "show(LatexExpr(f\"{latex(fp(x))}-{latex(gp(x))}=0\"))"
   ]
  },
  {
   "cell_type": "markdown",
   "id": "835c82bf-617a-4de4-a43e-98cf55a0e736",
   "metadata": {},
   "source": [
    "Which means $f'(x)=0$ for $x=0$."
   ]
  },
  {
   "cell_type": "code",
   "execution_count": 13,
   "id": "b9717f67-3b01-4d62-a60a-c454eaeb2750",
   "metadata": {},
   "outputs": [
    {
     "data": {
      "image/png": "[encoded data removed]",
      "text/plain": [
       "Graphics object consisting of 1 graphics primitive"
      ]
     },
     "execution_count": 13,
     "metadata": {},
     "output_type": "execute_result"
    }
   ],
   "source": [
    "h(x) = f(x) - g(x)\n",
    "plot(h(x))"
   ]
  },
  {
   "cell_type": "markdown",
   "id": "1db9bec7-f648-4f1c-9978-6487718317dd",
   "metadata": {},
   "source": [
    "For $f'(x)>0$, we know $f(x)$ is monotone and increasing $\\forall{x>0}$. We also know that $f(x)>f(0)$,"
   ]
  },
  {
   "cell_type": "markdown",
   "id": "5d2b0363-2429-454b-a499-6c27d7d5c3f0",
   "metadata": {},
   "source": [
    "$\\ln(1+x)-\\frac{x}{1+\\frac{x}{2}}>\\ln(1+0)-\\frac{0}{1+\\frac{0}{2}}$"
   ]
  },
  {
   "cell_type": "code",
   "execution_count": 214,
   "id": "a4a37c6d-1601-4b50-802b-ae44e3cdf27a",
   "metadata": {},
   "outputs": [
    {
     "data": {
      "text/html": [
       "<html>\\(\\displaystyle \\ln(x+1)-\\frac{x}{1+\\frac{x}{2}}>0\\)</html>"
      ],
      "text/latex": [
       "$\\displaystyle \\ln(x+1)-\\frac{x}{1+\\frac{x}{2}}>0$"
      ],
      "text/plain": [
       "\\ln(x+1)-\\frac{x}{1+\\frac{x}{2}}>0"
      ]
     },
     "metadata": {},
     "output_type": "display_data"
    }
   ],
   "source": [
    "show(LatexExpr(f\"\\\\ln(x+1)-\\\\frac{{x}}{{1+\\\\frac{{x}}{{2}}}}>{latex(h(0))}\"))"
   ]
  },
  {
   "cell_type": "markdown",
   "id": "c0a7731f-78e8-4a40-a120-1dcc15438d9e",
   "metadata": {},
   "source": [
    "Therefore, we get the inequality,"
   ]
  },
  {
   "cell_type": "markdown",
   "id": "77698031-a885-4f67-9485-bf36d0cb5212",
   "metadata": {},
   "source": [
    "$\\textbf{(2)}\\;\\frac{x}{1+\\frac{x}{2}}<\\ln(1+x)\\quad\\forall{x>0}$"
   ]
  },
  {
   "cell_type": "markdown",
   "id": "15ae6544-e1cb-4c9c-8294-679e993bb98e",
   "metadata": {},
   "source": [
    "Now, we can demonstrate the accuracy of the inequality **(2)** compared to **(1)**,"
   ]
  },
  {
   "cell_type": "code",
   "execution_count": 215,
   "id": "5a3aa5da-f9e5-4bdf-ab54-3f2e511bcada",
   "metadata": {},
   "outputs": [],
   "source": [
    "lnGraph = plot(ln(1+x), xmin = -1, xmax = 1.5, ymin= -2,ymax = 1.5, fillalpha=0.3,legend_label=\"y = ln(1+x)\")"
   ]
  },
  {
   "cell_type": "code",
   "execution_count": 216,
   "id": "79edf7d5-3a8c-401a-bd27-479c068c277a",
   "metadata": {},
   "outputs": [],
   "source": [
    "func1Graph = plot(x/(1+x), xmin = -1, xmax = 1.5, ymin= -2,ymax = 1.5, fillalpha=0.3,legend_label=\"y = x/(1+x)\", color=\"orange\",title='Inequality 1')"
   ]
  },
  {
   "cell_type": "code",
   "execution_count": 217,
   "id": "f392c7d0-8598-4ece-8654-358021385b11",
   "metadata": {},
   "outputs": [],
   "source": [
    "func2Graph = plot(1/(1+(x/2)), xmin = -1, xmax = 1.5, ymin= -2,ymax = 1.5, fillalpha=0.3,legend_label=\"y = 1/(1+(x/2))\", color=\"red\",title='Inequality 2')"
   ]
  },
  {
   "cell_type": "code",
   "execution_count": 218,
   "id": "f2a56a5b-df3e-4aa0-b6a4-5d57170ae9de",
   "metadata": {},
   "outputs": [],
   "source": [
    "oneGraph = plot(1, xmin = -1, xmax = 1.5, ymin= -2,ymax = 1.5, legend_label=\"y=1\", color=\"green\")"
   ]
  },
  {
   "cell_type": "code",
   "execution_count": 219,
   "id": "12b045f3-0bc2-4bf6-a06a-9a7a330f4726",
   "metadata": {},
   "outputs": [
    {
     "data": {
      "image/png": "[encoded data removed]",
      "text/plain": [
       "Graphics object consisting of 3 graphics primitives"
      ]
     },
     "execution_count": 219,
     "metadata": {},
     "output_type": "execute_result"
    }
   ],
   "source": [
    "lnGraph+oneGraph+func1Graph"
   ]
  },
  {
   "cell_type": "code",
   "execution_count": 220,
   "id": "1e343336-7171-4dec-b637-f3346659a9dd",
   "metadata": {},
   "outputs": [
    {
     "data": {
      "image/png": "[encoded data removed]",
      "text/plain": [
       "Graphics object consisting of 2 graphics primitives"
      ]
     },
     "execution_count": 220,
     "metadata": {},
     "output_type": "execute_result"
    }
   ],
   "source": [
    "lnGraph+func2Graph"
   ]
  },
  {
   "cell_type": "markdown",
   "id": "7f5cd733-6cda-4540-94cd-d4440f80acc6",
   "metadata": {},
   "source": [
    "If we let $x=1$, we have the inequalities,"
   ]
  },
  {
   "cell_type": "markdown",
   "id": "009da470-fe6c-4e35-8ea7-18312d4965b3",
   "metadata": {},
   "source": [
    "$\\frac{1}{2}\\leq\\ln{2}\\leq1\\\\\n",
    "\\frac{2}{3}\\leq\\ln{2}$"
   ]
  },
  {
   "cell_type": "markdown",
   "id": "a6cb4aa0-d732-4323-86e1-cdccc356da72",
   "metadata": {},
   "source": [
    "And if $x=2$,"
   ]
  },
  {
   "cell_type": "markdown",
   "id": "5c29decf-c101-4482-913d-5f7298e9fbc0",
   "metadata": {},
   "source": [
    "$\\frac{2}{3}\\leq\\ln{3}\\leq2\\\\\n",
    "1\\leq\\ln{3}$"
   ]
  },
  {
   "cell_type": "markdown",
   "id": "3aa371a6-ad8e-437f-9aae-6260e1967e07",
   "metadata": {},
   "source": [
    "### Proof (3)"
   ]
  },
  {
   "cell_type": "markdown",
   "id": "cdc7c0a8-3566-4b32-be13-11a7cc4f1f26",
   "metadata": {},
   "source": [
    "By **(2)**, we can let $k=\\frac{1}{2}$, giving us the inequality,"
   ]
  },
  {
   "cell_type": "code",
   "execution_count": 221,
   "id": "334543ba-0ebf-40d9-bccc-69d3520718ed",
   "metadata": {},
   "outputs": [],
   "source": [
    "v = var('x k')"
   ]
  },
  {
   "cell_type": "code",
   "execution_count": 222,
   "id": "59b646c8-a7e0-4a36-8e24-9c4abd614c15",
   "metadata": {},
   "outputs": [
    {
     "data": {
      "text/html": [
       "<html>\\(\\displaystyle \\frac{x}{k x + 1} \\leq \\log\\left(x + 1\\right) \\quad \\forall \\, k \\geq 0\\)</html>"
      ],
      "text/latex": [
       "$\\displaystyle \\frac{x}{k x + 1} \\leq \\log\\left(x + 1\\right) \\quad \\forall \\, k \\geq 0$"
      ],
      "text/plain": [
       "\\frac{x}{k x + 1} \\leq \\log\\left(x + 1\\right) \\quad \\forall \\, k \\geq 0"
      ]
     },
     "execution_count": 222,
     "metadata": {},
     "output_type": "execute_result"
    }
   ],
   "source": [
    "iq = x/(1+k*x) <= ln(1+x)\n",
    "\n",
    "LatexExpr(latex(iq)+ r\"\\quad \\forall \\,\" + latex(k>=0))"
   ]
  },
  {
   "cell_type": "markdown",
   "id": "8d7a9e97-5bb5-4eed-b171-364273d0c207",
   "metadata": {},
   "source": [
    "Therefore, **(3)** will hold true $\\forall k\\geq\\frac{1}{2}$ by **(2)**."
   ]
  },
  {
   "cell_type": "markdown",
   "id": "9d5628a6-d114-4082-81bb-f8b12ad01a53",
   "metadata": {},
   "source": [
    "To prove this formally, suppose $k < \\frac{1}{2}$ and $x > -1$"
   ]
  },
  {
   "cell_type": "code",
   "execution_count": 223,
   "id": "d4b65640-23c6-4a24-be32-60c3b4064b9d",
   "metadata": {},
   "outputs": [
    {
     "data": {
      "text/html": [
       "<html>\\(\\displaystyle \\text{Let} \\; f(x) = -\\frac{x}{k x + 1} + \\log\\left(x + 1\\right)\\)</html>"
      ],
      "text/latex": [
       "$\\displaystyle \\text{Let} \\; f(x) = -\\frac{x}{k x + 1} + \\log\\left(x + 1\\right)$"
      ],
      "text/plain": [
       "\\text{Let} \\; f(x) = -\\frac{x}{k x + 1} + \\log\\left(x + 1\\right)"
      ]
     },
     "execution_count": 223,
     "metadata": {},
     "output_type": "execute_result"
    }
   ],
   "source": [
    "f(x) = ln(1+x) - (x/(1+k*x))\n",
    "\n",
    "LatexExpr(r\"\\text{Let} \\; f(x) =\" + latex(f(x)))"
   ]
  },
  {
   "cell_type": "markdown",
   "id": "a8b512dc-c02e-447d-9ec9-f65ff90aebaa",
   "metadata": {},
   "source": [
    "Differentiating $f(x)$, we get,"
   ]
  },
  {
   "cell_type": "code",
   "execution_count": 224,
   "id": "206e3012-15b3-4727-aa5c-f1758f68f511",
   "metadata": {},
   "outputs": [
    {
     "data": {
      "text/html": [
       "<html>\\(\\displaystyle x \\ {\\mapsto}\\ \\frac{k x}{{\\left(k x + 1\\right)}^{2}} - \\frac{1}{k x + 1} + \\frac{1}{x + 1}\\)</html>"
      ],
      "text/latex": [
       "$\\displaystyle x \\ {\\mapsto}\\ \\frac{k x}{{\\left(k x + 1\\right)}^{2}} - \\frac{1}{k x + 1} + \\frac{1}{x + 1}$"
      ],
      "text/plain": [
       "x |--> k*x/(k*x + 1)^2 - 1/(k*x + 1) + 1/(x + 1)"
      ]
     },
     "execution_count": 224,
     "metadata": {},
     "output_type": "execute_result"
    }
   ],
   "source": [
    "f_prime = f.diff(x)\n",
    "f_prime"
   ]
  },
  {
   "cell_type": "markdown",
   "id": "9e498b48-5be8-4d23-bc4f-ee6ca6811700",
   "metadata": {},
   "source": [
    "Which can be re-written as\n",
    "\n",
    "$\\frac{(1+kx^2) - (1+x)}{(1+x)(1+kx)^2}$"
   ]
  },
  {
   "cell_type": "code",
   "execution_count": 225,
   "id": "6da00e52-2af3-40b3-9d32-8d6c0581c3c2",
   "metadata": {},
   "outputs": [
    {
     "data": {
      "text/html": [
       "<html>\\(\\displaystyle \\left[x = -\\frac{2 \\, k - 1}{k^{2}}, x = 0\\right]\\)</html>"
      ],
      "text/latex": [
       "$\\displaystyle \\left[x = -\\frac{2 \\, k - 1}{k^{2}}, x = 0\\right]$"
      ],
      "text/plain": [
       "[x == -(2*k - 1)/k^2, x == 0]"
      ]
     },
     "execution_count": 225,
     "metadata": {},
     "output_type": "execute_result"
    }
   ],
   "source": [
    "solve(f_prime == 0, x)"
   ]
  },
  {
   "cell_type": "code",
   "execution_count": 226,
   "id": "b3c58e60-b1f4-4043-b8f4-8758ef68e3ce",
   "metadata": {},
   "outputs": [
    {
     "data": {
      "text/html": [
       "<html>\\(\\displaystyle \\text{Let} \\; h = \\frac{(1-2k)}{k^2}\\)</html>"
      ],
      "text/latex": [
       "$\\displaystyle \\text{Let} \\; h = \\frac{(1-2k)}{k^2}$"
      ],
      "text/plain": [
       "\\text{Let} \\; h = \\frac{(1-2k)}{k^2}"
      ]
     },
     "execution_count": 226,
     "metadata": {},
     "output_type": "execute_result"
    }
   ],
   "source": [
    "h = (1-2*k)/k^2\n",
    "LatexExpr(r\"\\text{Let} \\; h = \\frac{(1-2k)}{k^2}\")"
   ]
  },
  {
   "cell_type": "markdown",
   "id": "f186c233-5dab-4a9a-83df-f8860c15365c",
   "metadata": {},
   "source": [
    "Which means $hk^2 =  1-2k$. Substituting this into $f'(x)$ gives us,\n",
    "\n",
    "$\\frac{xk^2(x-h)}{(1+x)(1+kx)^2}$"
   ]
  },
  {
   "cell_type": "code",
   "execution_count": 227,
   "id": "10000793-5fa7-403c-aa98-b7b44f86a7b3",
   "metadata": {},
   "outputs": [
    {
     "data": {
      "text/html": [
       "<html>\\(\\displaystyle \\left[x = -\\frac{2 \\, k - 1}{k^{2}}, x = 0\\right]\\)</html>"
      ],
      "text/latex": [
       "$\\displaystyle \\left[x = -\\frac{2 \\, k - 1}{k^{2}}, x = 0\\right]$"
      ],
      "text/plain": [
       "[x == -(2*k - 1)/k^2, x == 0]"
      ]
     },
     "execution_count": 227,
     "metadata": {},
     "output_type": "execute_result"
    }
   ],
   "source": [
    "solve(f_prime == 0, x)"
   ]
  },
  {
   "cell_type": "markdown",
   "id": "cb19c39f-2e9e-4070-b256-86736fc9ffff",
   "metadata": {},
   "source": [
    "This means $x = h$. Hence, $h$ is a critical point of $f'(x)$."
   ]
  },
  {
   "cell_type": "markdown",
   "id": "441912a8-4224-4d1b-b2ef-5931fccde7bb",
   "metadata": {},
   "source": [
    "As $h > 0,\\; f(h) < f(0)$, $f$ is not monotonically increasing. Hence, $\\frac{x}{1+kx} \\le ln(1+x)$ does not hold for $k<\\frac{1}{2}$"
   ]
  },
  {
   "cell_type": "markdown",
   "id": "8a0970af-431a-48cd-a1b8-d57f685f131e",
   "metadata": {},
   "source": [
    "If $x > h$, then $(x-h)>0$ => $f'(x) > 0$, meaning $f(x)$ is increasing."
   ]
  },
  {
   "cell_type": "markdown",
   "id": "9d2eb41b-5ba7-4cb6-b00c-e4174daae606",
   "metadata": {},
   "source": [
    "If $x < h$, then $(x-h) < 0$ => $f'(x) < 0$, meaning $f(x)$ is decreasing."
   ]
  },
  {
   "cell_type": "markdown",
   "id": "b6d1872d-4927-42d6-9728-b6621d37e31f",
   "metadata": {},
   "source": [
    "Therefore, $\\frac{x}{1+kx} \\le ln(1+x)$ is only true for $k \\ge \\frac{1}{2}$. Thus,"
   ]
  },
  {
   "cell_type": "markdown",
   "id": "ddf1e8b4-fa4b-4385-a011-16986bec519a",
   "metadata": {},
   "source": [
    "$\\textbf{(3)}\\;\\frac{x}{1+\\frac{x}{2}}>\\ln(1+x)\\quad\\text{for}\\;{-1<x<0}$"
   ]
  },
  {
   "cell_type": "markdown",
   "id": "b9cdd974-b4b9-4941-bc89-f5937da971e1",
   "metadata": {},
   "source": [
    "We can show the accuraccy of **(2)** by substituting different values of $k$ into **(3)**,"
   ]
  },
  {
   "cell_type": "code",
   "execution_count": 18,
   "id": "2e6e6919-8828-4ccd-a358-8aef9a83e048",
   "metadata": {},
   "outputs": [
    {
     "name": "stdout",
     "output_type": "stream",
     "text": [
      "verbose 0 (3987: plot.py, generate_plot_points) WARNING: When plotting, failed to evaluate function at 80 points.\n",
      "verbose 0 (3987: plot.py, generate_plot_points) Last error message: 'Unable to compute f(-1.0436088070675806)'\n",
      "verbose 0 (3987: plot.py, generate_plot_points) WARNING: When plotting, failed to evaluate function at 80 points.\n",
      "verbose 0 (3987: plot.py, generate_plot_points) Last error message: 'Unable to compute f(-1.0094239338287618)'\n",
      "verbose 0 (3987: plot.py, generate_plot_points) WARNING: When plotting, failed to evaluate function at 81 points.\n",
      "verbose 0 (3987: plot.py, generate_plot_points) Last error message: 'Unable to compute f(-1.0013529426964376)'\n",
      "verbose 0 (3987: plot.py, generate_plot_points) WARNING: When plotting, failed to evaluate function at 80 points.\n",
      "verbose 0 (3987: plot.py, generate_plot_points) Last error message: 'Unable to compute f(-1.0312140889946504)'\n"
     ]
    }
   ],
   "source": [
    "halfGraph = plot(ln(1+x)-(x/((x/2)+1)), xmin = -5, xmax= 5, ymin = -2,ymax = 2, legend_label = 'k=1/2', color= \"blue\") ;\n",
    "thirdGraph = plot(ln(1+x)-(x/((x/3)+1)), xmin = -5, xmax= 5, ymin = -2,ymax = 2, legend_label = 'k=1/3', color= \"red\") ;\n",
    "fiftyGraph = plot(ln(1+x)-(x/((x/50)+1)), xmin = -5, xmax= 5, ymin = -2,ymax = 2, legend_label = 'k=1/50', color= \"orange\") ;\n",
    "hundredGraph = plot(ln(1+x)-(x/((x/100)+1)), xmin = -5, xmax= 5, ymin = -2,ymax = 2, legend_label = 'k=1/100', color= \"green\") ;"
   ]
  },
  {
   "cell_type": "code",
   "execution_count": 19,
   "id": "7348af2c-3092-4a7e-9309-4e6cb17ebf0d",
   "metadata": {},
   "outputs": [
    {
     "data": {
      "image/png": "[encoded data removed]",
      "text/plain": [
       "Graphics object consisting of 4 graphics primitives"
      ]
     },
     "metadata": {},
     "output_type": "display_data"
    }
   ],
   "source": [
    "show(halfGraph + thirdGraph + fiftyGraph + hundredGraph)"
   ]
  },
  {
   "cell_type": "markdown",
   "id": "f69bbde2-2133-4375-8fbd-d0660087ec6d",
   "metadata": {},
   "source": [
    "This visualization helps demonstrate that k = $\\frac{1}{2}$ is the smallest constant for which:\n",
    "$\\frac{x}{1 + kx} \\leq \\ln(1+x)$\n",
    "holds for all x > 0."
   ]
  },
  {
   "cell_type": "markdown",
   "id": "a38f388b-6544-453d-95a5-fc892abb93ee",
   "metadata": {},
   "source": [
    "### Proof (5)"
   ]
  },
  {
   "cell_type": "markdown",
   "id": "888c801f-4f84-48cd-a7f5-8fe9e2123de2",
   "metadata": {},
   "source": [
    "If we manipulate the inequality $\\ln(1+x)\\leq{x}$ where $\\forall{x>-1}$, we have $\\ln(x)\\leq{x-1}$ where $\\forall{x>0}$."
   ]
  },
  {
   "cell_type": "code",
   "execution_count": 230,
   "id": "ab38b50f-d004-4c0c-83a7-194d3233589f",
   "metadata": {},
   "outputs": [
    {
     "data": {
      "text/html": [
       "<html>\\(\\displaystyle -x + \\log\\left(x\\right) + 1\\)</html>"
      ],
      "text/latex": [
       "$\\displaystyle -x + \\log\\left(x\\right) + 1$"
      ],
      "text/plain": [
       "-x + log(x) + 1"
      ]
     },
     "execution_count": 230,
     "metadata": {},
     "output_type": "execute_result"
    }
   ],
   "source": [
    "f2(x) = ln(x) -x + 1 ;f2(x)"
   ]
  },
  {
   "cell_type": "markdown",
   "id": "eec03d05-f2d8-48a6-80b2-0e0b4b14da2b",
   "metadata": {},
   "source": [
    "Let $f(x)=\\ln{x}\\leq{x-1}$ where $\\forall{x>0}$. We know,"
   ]
  },
  {
   "cell_type": "code",
   "execution_count": 231,
   "id": "abef8b58-bcb3-4974-9e62-b1f1cb3badde",
   "metadata": {},
   "outputs": [
    {
     "data": {
      "text/html": [
       "<html>\\(\\displaystyle f'(x)=\\frac{1}{x} - 1\\)</html>"
      ],
      "text/latex": [
       "$\\displaystyle f'(x)=\\frac{1}{x} - 1$"
      ],
      "text/plain": [
       "f'(x)=\\frac{1}{x} - 1"
      ]
     },
     "metadata": {},
     "output_type": "display_data"
    }
   ],
   "source": [
    "f2p(x) = diff(f2(x))\n",
    "show(LatexExpr(f\"f'(x)={latex(f2p(x))}\"))"
   ]
  },
  {
   "cell_type": "markdown",
   "id": "b0bb182f-3a2e-4593-aef8-189b6764080a",
   "metadata": {},
   "source": [
    "If we let $\\frac{1}{x}-1=0$, we get"
   ]
  },
  {
   "cell_type": "code",
   "execution_count": 232,
   "id": "9cabbe82-ef19-4f05-bac9-054cc4f91de3",
   "metadata": {},
   "outputs": [
    {
     "data": {
      "text/html": [
       "<html>\\(\\displaystyle \\left[x = 1\\right]\\)</html>"
      ],
      "text/latex": [
       "$\\displaystyle \\left[x = 1\\right]$"
      ],
      "text/plain": [
       "[x == 1]"
      ]
     },
     "execution_count": 232,
     "metadata": {},
     "output_type": "execute_result"
    }
   ],
   "source": [
    "solve(f2p(x),x)"
   ]
  },
  {
   "cell_type": "markdown",
   "id": "d1ee7a6c-6dc2-4ae3-813a-27ca5a7dead3",
   "metadata": {},
   "source": [
    "If $0<x\\leq1$, $f'(x)\\geq0$. Therefore, the function $f$ is increasing on the interval $(0,1]$ when $x>1$ and $f'(x)<0$, and decreasing on the interval $(1,\\infty)$"
   ]
  },
  {
   "cell_type": "markdown",
   "id": "66111f64-a9fe-48d9-ae57-77513c97d3d2",
   "metadata": {},
   "source": [
    "Letting $x=1$, we have"
   ]
  },
  {
   "cell_type": "code",
   "execution_count": 233,
   "id": "b9062ba3-2303-4c8a-9c2e-ea299bf751c3",
   "metadata": {},
   "outputs": [
    {
     "data": {
      "text/html": [
       "<html>\\(\\displaystyle f(1)=\\ln(1)-1+1=0\\)</html>"
      ],
      "text/latex": [
       "$\\displaystyle f(1)=\\ln(1)-1+1=0$"
      ],
      "text/plain": [
       "f(1)=\\ln(1)-1+1=0"
      ]
     },
     "metadata": {},
     "output_type": "display_data"
    }
   ],
   "source": [
    "show(LatexExpr(f\"f(1)=\\\\ln(1)-1+1={latex(f2(1))}\"))"
   ]
  },
  {
   "cell_type": "markdown",
   "id": "010455c0-0fcb-45f8-b93c-a0c979dab577",
   "metadata": {},
   "source": [
    "This gives means $(1,0)$ is a critical point of the function $f(x)$, specifically a local maximum. Thus, we can conclude $f(x)\\leq0$ where $\\forall{x>0}$."
   ]
  },
  {
   "cell_type": "code",
   "execution_count": 234,
   "id": "2d20fb89-f725-42a5-89e3-9fa6a788c5eb",
   "metadata": {},
   "outputs": [
    {
     "data": {
      "image/png": "[encoded data removed]",
      "text/plain": [
       "Graphics object consisting of 1 graphics primitive"
      ]
     },
     "execution_count": 234,
     "metadata": {},
     "output_type": "execute_result"
    }
   ],
   "source": [
    "plot(f2(x),(x,0,2))"
   ]
  },
  {
   "cell_type": "markdown",
   "id": "85a8059c-9d5e-418d-ab5a-f77a1f7b07b0",
   "metadata": {},
   "source": [
    "Substituting back the value of $f(x)$, we have,"
   ]
  },
  {
   "cell_type": "markdown",
   "id": "1920b63c-27c3-40c9-b7bb-def4a21ca6e4",
   "metadata": {},
   "source": [
    "$\\ln(x)-x+1\\leq0$"
   ]
  },
  {
   "cell_type": "markdown",
   "id": "54968602-b1dc-419d-818b-59be74a0db1b",
   "metadata": {},
   "source": [
    "Therefore,"
   ]
  },
  {
   "cell_type": "markdown",
   "id": "d45e0c08-2ae8-4916-aa60-ace9f384fb67",
   "metadata": {},
   "source": [
    "$\\textbf{(5)}\\;\\ln(1+x)\\leq{x}\\quad\\forall{x>-1}$"
   ]
  }
 ],
 "metadata": {
  "kernelspec": {
   "display_name": "SageMath 10.6",
   "language": "sage",
   "name": "sagemath"
  },
  "language_info": {
   "codemirror_mode": {
    "name": "ipython",
    "version": 3
   },
   "file_extension": ".py",
   "mimetype": "text/x-python",
   "name": "python",
   "nbconvert_exporter": "python",
   "pygments_lexer": "ipython3",
   "version": "3.12.3"
  }
 },
 "nbformat": 4,
 "nbformat_minor": 5
}
