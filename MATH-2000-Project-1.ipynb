{
 "cells": [
  {
   "cell_type": "code",
   "execution_count": 4,
   "id": "a0cbd426-f9fc-4091-9c77-4e87009e5404",
   "metadata": {},
   "outputs": [],
   "source": [
    "%display latex"
   ]
  },
  {
   "cell_type": "markdown",
   "id": "92ca4b1c-92c3-49be-ada9-b305bd073516",
   "metadata": {},
   "source": [
    "According to the Mean Value Theorem, if $f:[a,b]\\rightarrow\\mathbb{R}$ is continuous on $[a,b]$ and differentiable on $(a,b)$, then there is a $c\\ni(a,b)$ such that $f(b)-f(a)=f'(c)(b-a)$."
   ]
  },
  {
   "cell_type": "markdown",
   "id": "2d62eb23-1c8d-4542-93c1-de2466a93029",
   "metadata": {},
   "source": [
    "Furthermore, the Mean Value Theorem can be generalized to where, if $f:[a,b]\\rightarrow\\mathbb{R}$ and $g:[a,b]\\rightarrow\\mathbb{R}$ are continuous on $[a,b]$ and differentiable on $(a,b)$, then $\\exists{c}\\ni(a,b)$ such that $g'(c)\\bigl(f(b)-f(a)\\bigl)=f'(c)\\bigl(g(b)-g(a)\\bigl)$."
   ]
  },
  {
   "cell_type": "markdown",
   "id": "83e10361-0c9d-4bc9-bc47-2e990752f608",
   "metadata": {},
   "source": [
    "Let $f(x)=\\ln(1+x)$. We know,"
   ]
  },
  {
   "cell_type": "code",
   "execution_count": 27,
   "id": "9c0753b4-2723-444d-801c-251b890bf88d",
   "metadata": {},
   "outputs": [
    {
     "name": "stdout",
     "output_type": "stream",
     "text": [
      "f(0)=\n"
     ]
    },
    {
     "data": {
      "text/html": [
       "<html>\\(\\displaystyle 0\\)</html>"
      ],
      "text/latex": [
       "$\\displaystyle 0$"
      ],
      "text/plain": [
       "0"
      ]
     },
     "metadata": {},
     "output_type": "display_data"
    },
    {
     "name": "stdout",
     "output_type": "stream",
     "text": [
      "f'(x)=\n"
     ]
    },
    {
     "data": {
      "text/html": [
       "<html>\\(\\displaystyle \\frac{1}{x + 1}\\)</html>"
      ],
      "text/latex": [
       "$\\displaystyle \\frac{1}{x + 1}$"
      ],
      "text/plain": [
       "1/(x + 1)"
      ]
     },
     "metadata": {},
     "output_type": "display_data"
    }
   ],
   "source": [
    "x = var('x')\n",
    "eqn = ln(1+x)\n",
    "sol1 = eqn.subs(x=0)\n",
    "sol2 = diff(eqn,x)\n",
    "print(\"f(0)=\")\n",
    "show(sol1)\n",
    "print(\"f'(x)=\")\n",
    "show(sol2)"
   ]
  },
  {
   "cell_type": "markdown",
   "id": "6616d186-5400-47cf-8ce0-2dbbedae3185",
   "metadata": {},
   "source": [
    "By the Mean Value Theorem for $x\\neq{0}$\n",
    "$$\\begin{eqnarray}\n",
    "f(x)&=&f(0)+f'(c)(x-0)\\\\\n",
    "&=&\\frac{1}{1+c}\\cdot{x}\\\\\n",
    "&=&\\frac{x}{1+c}\\quad \\text{where}\\quad c\\ni(0,|x|)\n",
    "\\end{eqnarray}$$"
   ]
  },
  {
   "cell_type": "markdown",
   "id": "dbfe0810-8e83-485b-a3cc-f6797c52beeb",
   "metadata": {},
   "source": [
    "If $x>0$, then\n",
    "$$\\begin{eqnarray}\n",
    "0<c<x&\\Rightarrow&1+x>1+c>1\\\\\n",
    "&\\Rightarrow&\\frac{1}{1+x}<\\frac{1}{1+c}<1\\\\\n",
    "&\\Rightarrow&\\frac{x}{1+x}<\\frac{x}{1+c}<{x}\n",
    "\\end{eqnarray}$$"
   ]
  },
  {
   "cell_type": "markdown",
   "id": "1b7c93b2-3aa8-46f2-ad32-b72d6c88965f",
   "metadata": {},
   "source": [
    "and if $x<0$, then\n",
    "$$\\begin{eqnarray}\n",
    "x<c<0&\\Rightarrow&1+x<1+c<1\\\\\n",
    "&\\Rightarrow&\\frac{1}{1+x}>\\frac{1}{1+c}>1\\\\\n",
    "&\\Rightarrow&\\frac{x}{1+x}>\\frac{x}{1+c}>{x}\n",
    "\\end{eqnarray}$$"
   ]
  },
  {
   "cell_type": "markdown",
   "id": "a460e714-84f4-453a-bd91-28976efe6253",
   "metadata": {},
   "source": [
    "Since $\\ln(1+x)$ can be expressed as $\\frac{x}{1+c}$ where $c\\ni(0,|x|)$, we can say that for $x>0$,\n",
    "$$\\frac{x}{1+x}<\\frac{x}{1+c}<{x}\\Leftrightarrow\\frac{x}{1+x}<\\ln(1+x)<x$$"
   ]
  },
  {
   "cell_type": "markdown",
   "id": "ebbf77a4-08d8-45f3-b85f-456fab89115d",
   "metadata": {},
   "source": [
    "and for $x<0$,\n",
    "$$\\frac{x}{1+x}>\\frac{x}{1+c}>{x}\\Leftrightarrow\\frac{x}{1+x}>\\ln(1+x)>x$$"
   ]
  },
  {
   "cell_type": "markdown",
   "id": "ba6b75e0-d982-48e8-966f-9ff0c6671148",
   "metadata": {},
   "source": [
    "Therefore,\n",
    "$$\\textbf{(1)}\\quad\\frac{x}{1+x}\\leq\\ln(1+x)\\leq{x}\\quad\\forall{x>-1}$$"
   ]
  },
  {
   "cell_type": "markdown",
   "id": "75bde559-8770-42e1-9206-326972f7d225",
   "metadata": {},
   "source": [
    "From $\\text{(1)}$, we can restrict the inequality from $x>-1$ to $x>0$. Then we can have,\n",
    "$$\\begin{eqnarray}\n",
    "\\textbf{(2)}&\\quad&\\frac{x}{1+\\frac{x}{2}}<\\ln(1+x)\\quad\\forall{x>0}\\\\\n",
    "\\textbf{(3)}&\\quad&\\frac{x}{1+\\frac{x}{2}}>\\ln(1+x)\\quad\\text{for}\\quad{-1<x<0}\\\\\n",
    "\\end{eqnarray}$$"
   ]
  },
  {
   "cell_type": "code",
   "execution_count": null,
   "id": "8a165df6-8a89-4b3f-b57d-e4149de2fb1c",
   "metadata": {},
   "outputs": [],
   "source": []
  },
  {
   "cell_type": "code",
   "execution_count": null,
   "id": "aff48c29-fd5c-4a8c-82d1-091c5e4dd919",
   "metadata": {},
   "outputs": [],
   "source": []
  }
 ],
 "metadata": {
  "kernelspec": {
   "display_name": "SageMath 10.6",
   "language": "sage",
   "name": "sagemath"
  },
  "language_info": {
   "codemirror_mode": {
    "name": "ipython",
    "version": 3
   },
   "file_extension": ".py",
   "mimetype": "text/x-python",
   "name": "python",
   "nbconvert_exporter": "python",
   "pygments_lexer": "ipython3",
   "version": "3.12.5"
  }
 },
 "nbformat": 4,
 "nbformat_minor": 5
}
