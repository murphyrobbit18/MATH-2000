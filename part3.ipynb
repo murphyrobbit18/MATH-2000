{
 "cells": [
  {
   "cell_type": "code",
   "execution_count": 107,
   "id": "dd4a3807-1072-4a17-b4be-9478b86fb3a4",
   "metadata": {},
   "outputs": [],
   "source": [
    "%display latex\n",
    "v = var('x k h')"
   ]
  },
  {
   "cell_type": "code",
   "execution_count": 102,
   "id": "a0d575d6-67da-42cf-a487-da1d6c6110c7",
   "metadata": {},
   "outputs": [
    {
     "data": {
      "text/html": [
       "<html>\\(\\displaystyle \\frac{x}{k x + 1} \\leq \\log\\left(x + 1\\right) \\quad \\forall \\, k \\geq 0\\)</html>"
      ],
      "text/latex": [
       "$\\displaystyle \\frac{x}{k x + 1} \\leq \\log\\left(x + 1\\right) \\quad \\forall \\, k \\geq 0$"
      ],
      "text/plain": [
       "\\frac{x}{k x + 1} \\leq \\log\\left(x + 1\\right) \\quad \\forall \\, k \\geq 0"
      ]
     },
     "execution_count": 102,
     "metadata": {},
     "output_type": "execute_result"
    }
   ],
   "source": [
    "iq = x/(1+k*x) <= ln(1+x)\n",
    "\n",
    "LatexExpr(latex(iq)+ r\"\\quad \\forall \\,\" + latex(k>=0))"
   ]
  },
  {
   "cell_type": "markdown",
   "id": "3500b3a3-916d-457d-90e2-986eacb97b74",
   "metadata": {},
   "source": [
    "So **3** holds $\\forall k \\geq \\frac{1}{2}$ (by proof of **2**)"
   ]
  },
  {
   "cell_type": "markdown",
   "id": "0c028683-c5da-4ba0-bfd3-265468def0a9",
   "metadata": {},
   "source": [
    "#### To prove this formally\n",
    "$Suppose \\; k < \\frac{1}{2}$ and $x > -1$"
   ]
  },
  {
   "cell_type": "code",
   "execution_count": 103,
   "id": "49b89ae6-176a-4965-b8f7-0d9fec4aa719",
   "metadata": {},
   "outputs": [
    {
     "data": {
      "text/html": [
       "<html>\\(\\displaystyle Let \\; f(x) = -\\frac{x}{k x + 1} + \\log\\left(x + 1\\right)\\)</html>"
      ],
      "text/latex": [
       "$\\displaystyle Let \\; f(x) = -\\frac{x}{k x + 1} + \\log\\left(x + 1\\right)$"
      ],
      "text/plain": [
       "Let \\; f(x) = -\\frac{x}{k x + 1} + \\log\\left(x + 1\\right)"
      ]
     },
     "execution_count": 103,
     "metadata": {},
     "output_type": "execute_result"
    }
   ],
   "source": [
    "f(x) = ln(1+x) - (x/(1+k*x))\n",
    "\n",
    "LatexExpr(r\"Let \\; f(x) =\" + latex(f(x)))"
   ]
  },
  {
   "cell_type": "markdown",
   "id": "527a4bdd-e014-4596-8284-a1b1ec60b3aa",
   "metadata": {},
   "source": [
    "#### Differentiaing f(x) once we get:"
   ]
  },
  {
   "cell_type": "code",
   "execution_count": 104,
   "id": "4003b810-d14b-4856-8b6b-84c45da1ed8c",
   "metadata": {},
   "outputs": [
    {
     "data": {
      "text/html": [
       "<html>\\(\\displaystyle x \\ {\\mapsto}\\ \\frac{k x}{{\\left(k x + 1\\right)}^{2}} - \\frac{1}{k x + 1} + \\frac{1}{x + 1}\\)</html>"
      ],
      "text/latex": [
       "$\\displaystyle x \\ {\\mapsto}\\ \\frac{k x}{{\\left(k x + 1\\right)}^{2}} - \\frac{1}{k x + 1} + \\frac{1}{x + 1}$"
      ],
      "text/plain": [
       "x |--> k*x/(k*x + 1)^2 - 1/(k*x + 1) + 1/(x + 1)"
      ]
     },
     "execution_count": 104,
     "metadata": {},
     "output_type": "execute_result"
    }
   ],
   "source": [
    "f_prime = f.diff(x)\n",
    "f_prime"
   ]
  },
  {
   "cell_type": "markdown",
   "id": "691dcbb1-9011-436f-856e-a572390f627a",
   "metadata": {},
   "source": [
    "Which can be re-written as\n",
    "\n",
    "$\\frac{(1+kx^2) - (1+x)}{(1+x)(1+kx)^2}$"
   ]
  },
  {
   "cell_type": "code",
   "execution_count": 111,
   "id": "18096772-22d6-4cb4-96ff-1f160d0cca65",
   "metadata": {},
   "outputs": [
    {
     "data": {
      "text/html": [
       "<html>\\(\\displaystyle Let \\; h = \\frac{(1-2k)}{k^2}\\)</html>"
      ],
      "text/latex": [
       "$\\displaystyle Let \\; h = \\frac{(1-2k)}{k^2}$"
      ],
      "text/plain": [
       "Let \\; h = \\frac{(1-2k)}{k^2}"
      ]
     },
     "execution_count": 111,
     "metadata": {},
     "output_type": "execute_result"
    }
   ],
   "source": [
    "h = (1-2*k)/k^2\n",
    "LatexExpr(r\"Let \\; h = \\frac{(1-2k)}{k^2}\")"
   ]
  },
  {
   "cell_type": "markdown",
   "id": "dbace7f8-952f-4025-a77d-6e969196bb63",
   "metadata": {},
   "source": [
    "Which means $hk^2 =  1-2k$"
   ]
  },
  {
   "cell_type": "markdown",
   "id": "b80c5675-0dcb-48e8-960e-1b0ca7c756af",
   "metadata": {},
   "source": [
    "Substituting this into f'(x) gives us\n",
    "\n",
    "$\\frac{xk^2(x-h)}{(1+x)(1+kx)^2}$"
   ]
  },
  {
   "cell_type": "code",
   "execution_count": 105,
   "id": "efe17cf3-9909-4011-85e5-177e3b8774e6",
   "metadata": {},
   "outputs": [
    {
     "data": {
      "text/html": [
       "<html>\\(\\displaystyle \\left[x = -\\frac{2 \\, k - 1}{k^{2}}, x = 0\\right]\\)</html>"
      ],
      "text/latex": [
       "$\\displaystyle \\left[x = -\\frac{2 \\, k - 1}{k^{2}}, x = 0\\right]$"
      ],
      "text/plain": [
       "[x == -(2*k - 1)/k^2, x == 0]"
      ]
     },
     "execution_count": 105,
     "metadata": {},
     "output_type": "execute_result"
    }
   ],
   "source": [
    "# Solve f'(x) = 0 for critical points\n",
    "solve(f_prime == 0, x)"
   ]
  },
  {
   "cell_type": "markdown",
   "id": "9126353f-65c3-44bf-8ec2-349b31dbf8af",
   "metadata": {},
   "source": [
    "This basically means\n",
    "$x = h$\n",
    "Hence, h is a critical point of f'(x)"
   ]
  },
  {
   "cell_type": "markdown",
   "id": "da295323-e3ce-478b-98eb-b88a846bc41f",
   "metadata": {},
   "source": [
    "As $h > 0,\\; f(h) < f(0)$ \n",
    "\n",
    "f is not monotonically increasing\n",
    "\n",
    "Hence, $\\frac{x}{1+kx} \\le ln(1+x)$ does not hold for $k<\\frac{1}{2}$"
   ]
  },
  {
   "cell_type": "markdown",
   "id": "d41606c1-e854-4923-a8d9-6e0ae060577f",
   "metadata": {},
   "source": [
    "If $x > h$ then \n",
    "\n",
    "$(x-h)>0$ => $f'(x) > 0$\n",
    "\n",
    "Which makes f(x) **increasing**"
   ]
  },
  {
   "cell_type": "markdown",
   "id": "5fcd1607-c8f7-4039-9cf0-69d7cf1db3b6",
   "metadata": {},
   "source": [
    "If $x < h$ then \n",
    "\n",
    "$(x-h) < 0$ => $f'(x) < 0$\n",
    "\n",
    "Which makes f(x) **decreasing**"
   ]
  },
  {
   "cell_type": "markdown",
   "id": "997332ca-7f7e-4c18-8631-839510727bf0",
   "metadata": {},
   "source": [
    "Therefore $\\frac{x}{1+kx} \\le ln(1+x)$ is only true for $k \\ge 12$\n",
    "(And since ½ is the smallest possible K, it is the most precise)"
   ]
  }
 ],
 "metadata": {
  "kernelspec": {
   "display_name": "SageMath 10.6",
   "language": "sage",
   "name": "sagemath-10.6"
  },
  "language_info": {
   "codemirror_mode": {
    "name": "ipython",
    "version": 3
   },
   "file_extension": ".py",
   "mimetype": "text/x-python",
   "name": "python",
   "nbconvert_exporter": "python",
   "pygments_lexer": "ipython3",
   "version": "3.12.5"
  }
 },
 "nbformat": 4,
 "nbformat_minor": 5
}
