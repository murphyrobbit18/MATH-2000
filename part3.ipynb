{
 "cells": [
  {
   "cell_type": "markdown",
   "id": "724775bf-68f8-4992-870e-ed6a80977142",
   "metadata": {},
   "source": [
    "# MATH 2000 Logarithmic Inequalities Project"
   ]
  },
  {
   "cell_type": "code",
   "execution_count": 2,
   "id": "11ed6071-5421-454e-b841-6835057e8d05",
   "metadata": {},
   "outputs": [],
   "source": [
    "%display latex\n",
    "x = var('x')"
   ]
  },
  {
   "cell_type": "markdown",
   "id": "48540d9f-483b-47a5-a3d2-3518917470ac",
   "metadata": {},
   "source": [
    "## (1) $\\frac{x}{1+x} \\le ln(1 + x) \\le x$&nbsp;&nbsp;&nbsp;&nbsp;&nbsp;&nbsp;$\\forall x\\ > -1$"
   ]
  }
 ],
 "metadata": {
  "kernelspec": {
   "display_name": "SageMath 10.6",
   "language": "sage",
   "name": "sagemath-10.6"
  },
  "language_info": {
   "codemirror_mode": {
    "name": "ipython",
    "version": 3
   },
   "file_extension": ".py",
   "mimetype": "text/x-python",
   "name": "python",
   "nbconvert_exporter": "python",
   "pygments_lexer": "ipython3",
   "version": "3.12.5"
  }
 },
 "nbformat": 4,
 "nbformat_minor": 5
}
