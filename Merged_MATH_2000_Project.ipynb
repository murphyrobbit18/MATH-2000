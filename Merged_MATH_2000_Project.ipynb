{
 "cells": [
  {
   "cell_type": "markdown",
   "id": "3f6e5de4-d3be-45bf-ac6c-196d9aac6c15",
   "metadata": {},
   "source": [
    "# MATH 2000 Logarithmic Inequalities Project"
   ]
  },
  {
   "cell_type": "code",
   "execution_count": 2,
   "id": "7e6fe62e-b1a4-4cb7-9008-76fcc252e80c",
   "metadata": {},
   "outputs": [],
   "source": [
    "%display latex"
   ]
  },
  {
   "cell_type": "markdown",
   "id": "7e9676a9-7cf3-4e4a-a159-437c4ab582c1",
   "metadata": {},
   "source": [
    "According to the Mean Value Theorem, if $f:[a,b]\\rightarrow\\mathbb{R}$ is continuous on $[a,b]$ and differentiable on $(a,b)$, then there is a $c\\ni(a,b)$ such that $f(b)-f(a)=f'(c)(b-a)$."
   ]
  },
  {
   "cell_type": "markdown",
   "id": "dad5aa30-d8ec-40a0-bd3b-0303495ec696",
   "metadata": {},
   "source": [
    "Furthermore, the Mean Value Theorem can be generalized to where, if $f:[a,b]\\rightarrow\\mathbb{R}$ and $g:[a,b]\\rightarrow\\mathbb{R}$ are continuous on $[a,b]$ and differentiable on $(a,b)$, then $\\exists{c}\\ni(a,b)$ such that $g'(c)\\bigl(f(b)-f(a)\\bigl)=f'(c)\\bigl(g(b)-g(a)\\bigl)$."
   ]
  },
  {
   "cell_type": "markdown",
   "id": "7af1668b-567c-428e-8524-5729e5eda3e4",
   "metadata": {},
   "source": [
    "Let $f(x)=\\ln(1+x)$. We know,"
   ]
  },
  {
   "cell_type": "code",
   "execution_count": 3,
   "id": "ee8786b6-06ce-495f-a10d-2ffb78779870",
   "metadata": {},
   "outputs": [
    {
     "name": "stdout",
     "output_type": "stream",
     "text": [
      "f(0)=\n"
     ]
    },
    {
     "data": {
      "text/html": [
       "<html>\\(\\displaystyle 0\\)</html>"
      ],
      "text/latex": [
       "$\\displaystyle 0$"
      ],
      "text/plain": [
       "0"
      ]
     },
     "metadata": {},
     "output_type": "display_data"
    },
    {
     "name": "stdout",
     "output_type": "stream",
     "text": [
      "f'(x)=\n"
     ]
    },
    {
     "data": {
      "text/html": [
       "<html>\\(\\displaystyle \\frac{1}{x + 1}\\)</html>"
      ],
      "text/latex": [
       "$\\displaystyle \\frac{1}{x + 1}$"
      ],
      "text/plain": [
       "1/(x + 1)"
      ]
     },
     "metadata": {},
     "output_type": "display_data"
    }
   ],
   "source": [
    "x = var('x')\n",
    "eqn = ln(1+x)\n",
    "sol1 = eqn.subs(x=0)\n",
    "sol2 = diff(eqn,x)\n",
    "print(\"f(0)=\")\n",
    "show(sol1)\n",
    "print(\"f'(x)=\")\n",
    "show(sol2)"
   ]
  },
  {
   "cell_type": "markdown",
   "id": "97ea09e6-d58a-4bab-8ce6-2c373b3bf85d",
   "metadata": {},
   "source": [
    "By the Mean Value Theorem for $x\\neq{0}$\n",
    "$$\\begin{eqnarray}\n",
    "f(x)&=&f(0)+f'(c)(x-0)\\\\\n",
    "&=&\\frac{1}{1+c}\\cdot{x}\\\\\n",
    "&=&\\frac{x}{1+c}\\quad \\text{where}\\quad c\\ni(0,|x|)\n",
    "\\end{eqnarray}$$"
   ]
  },
  {
   "cell_type": "markdown",
   "id": "28a6249b-3945-4442-a4c9-8fbe0ec1621c",
   "metadata": {},
   "source": [
    "If $x>0$, then\n",
    "$$\\begin{eqnarray}\n",
    "0<c<x&\\Rightarrow&1+x>1+c>1\\\\\n",
    "&\\Rightarrow&\\frac{1}{1+x}<\\frac{1}{1+c}<1\\\\\n",
    "&\\Rightarrow&\\frac{x}{1+x}<\\frac{x}{1+c}<{x}\n",
    "\\end{eqnarray}$$"
   ]
  },
  {
   "cell_type": "markdown",
   "id": "56404130-fff8-4210-8203-3b37467c3e98",
   "metadata": {},
   "source": [
    "and if $x<0$, then\n",
    "$$\\begin{eqnarray}\n",
    "x<c<0&\\Rightarrow&1+x<1+c<1\\\\\n",
    "&\\Rightarrow&\\frac{1}{1+x}>\\frac{1}{1+c}>1\\\\\n",
    "&\\Rightarrow&\\frac{x}{1+x}>\\frac{x}{1+c}>{x}\n",
    "\\end{eqnarray}$$"
   ]
  },
  {
   "cell_type": "markdown",
   "id": "10cc9233-f2fb-48fc-9d5d-adf7b7c74f4d",
   "metadata": {},
   "source": [
    "Since $\\ln(1+x)$ can be expressed as $\\frac{x}{1+c}$ where $c\\ni(0,|x|)$, we can say that for $x>0$,\n",
    "$$\\frac{x}{1+x}<\\frac{x}{1+c}<{x}\\Leftrightarrow\\frac{x}{1+x}<\\ln(1+x)<x$$"
   ]
  },
  {
   "cell_type": "markdown",
   "id": "a507aded-ce2b-4b58-b890-0e28968a28d7",
   "metadata": {},
   "source": [
    "and for $x<0$,\n",
    "$$\\frac{x}{1+x}>\\frac{x}{1+c}>{x}\\Leftrightarrow\\frac{x}{1+x}>\\ln(1+x)>x$$"
   ]
  },
  {
   "cell_type": "markdown",
   "id": "47b6707c-245b-4503-a695-41900e41cd42",
   "metadata": {},
   "source": [
    "Therefore,\n",
    "$$\\textbf{(1)}\\quad\\frac{x}{1+x}\\leq\\ln(1+x)\\leq{x}\\quad\\forall{x>-1}$$"
   ]
  },
  {
   "cell_type": "markdown",
   "id": "4fea7809-1106-486e-8d86-8871ac8e13e2",
   "metadata": {},
   "source": [
    "From $\\text{(1)}$, we can restrict the inequality from $x>-1$ to $x>0$. Then we can have,\n",
    "$$\\begin{eqnarray}\n",
    "\\textbf{(2)}&\\quad&\\frac{x}{1+\\frac{x}{2}}<\\ln(1+x)\\quad\\forall{x>0}\\\\\n",
    "\\textbf{(3)}&\\quad&\\frac{x}{1+\\frac{x}{2}}>\\ln(1+x)\\quad\\text{for}\\quad{-1<x<0}\\\\\n",
    "\\end{eqnarray}$$"
   ]
  },
  {
   "cell_type": "code",
   "execution_count": 1,
   "id": "28afc67e-4941-4fc4-b821-47b8b2dcda8c",
   "metadata": {},
   "outputs": [],
   "source": [
    "ineq = (x/(1+x) <= ln(1+x) <=x)"
   ]
  },
  {
   "cell_type": "markdown",
   "id": "3ce0209a-4bf4-4091-9f8c-fe637deb6b27",
   "metadata": {},
   "source": [
    "#### $\\\\\\textbf{Proof of (2)}$"
   ]
  },
  {
   "cell_type": "markdown",
   "id": "a21f8e1e-3d14-43c5-b9ad-32327d4c0278",
   "metadata": {},
   "source": [
    "Take $f(x)=ln(1+x)-\\frac{x}{1+\\frac{x}{2}}$"
   ]
  },
  {
   "cell_type": "code",
   "execution_count": 12,
   "id": "7e7eaf98-6a62-4c93-b151-0d47a9a63506",
   "metadata": {},
   "outputs": [],
   "source": [
    "f(x) = ln(1+x)"
   ]
  },
  {
   "cell_type": "code",
   "execution_count": 13,
   "id": "ae2d8ae8-e88b-4108-b490-3f460cf524c4",
   "metadata": {},
   "outputs": [
    {
     "data": {
      "text/html": [
       "<html>\\(\\displaystyle \\frac{1}{x + 1}\\)</html>"
      ],
      "text/latex": [
       "$\\displaystyle \\frac{1}{x + 1}$"
      ],
      "text/plain": [
       "1/(x + 1)"
      ]
     },
     "execution_count": 13,
     "metadata": {},
     "output_type": "execute_result"
    }
   ],
   "source": [
    "fp(x) = diff(f(x)) ; fp(x)"
   ]
  },
  {
   "cell_type": "code",
   "execution_count": 14,
   "id": "fb5d536d-4640-4b4a-b8c6-c0d12d70a4ae",
   "metadata": {},
   "outputs": [],
   "source": [
    "g(x) = (x/(1+x/2))"
   ]
  },
  {
   "cell_type": "code",
   "execution_count": 15,
   "id": "f6ed70c7-0973-4f0b-8866-955efc402e76",
   "metadata": {},
   "outputs": [
    {
     "data": {
      "text/html": [
       "<html>\\(\\displaystyle \\frac{4}{x^{2} + 4 \\, x + 4}\\)</html>"
      ],
      "text/latex": [
       "$\\displaystyle \\frac{4}{x^{2} + 4 \\, x + 4}$"
      ],
      "text/plain": [
       "4/(x^2 + 4*x + 4)"
      ]
     },
     "execution_count": 15,
     "metadata": {},
     "output_type": "execute_result"
    }
   ],
   "source": [
    "gp(x) = diff(g(x)).expand().simplify_full() ; gp(x)"
   ]
  },
  {
   "cell_type": "code",
   "execution_count": 16,
   "id": "2f61a2db-4f36-42ee-b210-29dbaee584fc",
   "metadata": {},
   "outputs": [],
   "source": [
    "h(x) = f(x) - g(x)"
   ]
  },
  {
   "cell_type": "code",
   "execution_count": 17,
   "id": "a7dde493-2c85-4b31-b05d-7252b2eeeaf2",
   "metadata": {},
   "outputs": [
    {
     "data": {
      "text/html": [
       "<html>\\(\\displaystyle -\\frac{4}{x^{2} + 4 \\, x + 4} + \\frac{1}{x + 1}\\)</html>"
      ],
      "text/latex": [
       "$\\displaystyle -\\frac{4}{x^{2} + 4 \\, x + 4} + \\frac{1}{x + 1}$"
      ],
      "text/plain": [
       "-4/(x^2 + 4*x + 4) + 1/(x + 1)"
      ]
     },
     "execution_count": 17,
     "metadata": {},
     "output_type": "execute_result"
    }
   ],
   "source": [
    "hp(x) = fp(x) - gp(x) ; hp(x)"
   ]
  },
  {
   "cell_type": "markdown",
   "id": "faeb9eae-8e58-4ac2-a78c-08e0faed8fa5",
   "metadata": {},
   "source": [
    "Notice&nbsp;&nbsp;&nbsp;&nbsp;$\\forall x\\ > 0$&nbsp;&nbsp;&nbsp;&nbsp;&nbsp;$1+x < 4 + 4x + x^2$"
   ]
  },
  {
   "cell_type": "code",
   "execution_count": 18,
   "id": "889313ad-0eb0-4f04-a731-671b2d2e1127",
   "metadata": {},
   "outputs": [
    {
     "data": {
      "text/html": [
       "<html>\\(\\displaystyle \\frac{1}{x + 1} > \\frac{4}{x^{2} + 4 \\, x + 4}\\)</html>"
      ],
      "text/latex": [
       "$\\displaystyle \\frac{1}{x + 1} > \\frac{4}{x^{2} + 4 \\, x + 4}$"
      ],
      "text/plain": [
       "(1/(x + 1)) > 4/(x^2 + 4*x + 4)"
      ]
     },
     "execution_count": 18,
     "metadata": {},
     "output_type": "execute_result"
    }
   ],
   "source": [
    "fp(x) > gp(x)"
   ]
  },
  {
   "cell_type": "markdown",
   "id": "08a2b0c9-15b6-4fa0-a63e-ade669d06adf",
   "metadata": {},
   "source": [
    "$$\\begin{eqnarray}\n",
    "&\\Rightarrow&\\frac{1}{1+x}-\\frac{1}{4+4x+x^2}\\\\\\\\\n",
    "&\\Rightarrow&f'(x) > 0\\ \\ \\forall x\\ > 0\\\\  \n",
    "\\end{eqnarray}$$"
   ]
  },
  {
   "cell_type": "markdown",
   "id": "a867b90b-3708-4edc-8827-622ff93597eb",
   "metadata": {},
   "source": [
    "If x = 0 then $1+x = 4+4x+x^2\\ $so"
   ]
  },
  {
   "cell_type": "markdown",
   "id": "d3964075-4548-4dd3-a750-63b4ca45ec23",
   "metadata": {},
   "source": [
    "$$\\begin{eqnarray}\n",
    "&\\frac{1}{1+x} - \\frac{1}{4 + 4x + x^2} = 0\\\\\n",
    "\\end{eqnarray}$$"
   ]
  },
  {
   "cell_type": "markdown",
   "id": "8fc73907-94dc-4841-bf9c-c29daacce215",
   "metadata": {},
   "source": [
    "$$\\begin{eqnarray}\n",
    "&\\Rightarrow&f'(x) = 0\\ for\\ x = 0\\\\  \n",
    "\\end{eqnarray}$$"
   ]
  },
  {
   "cell_type": "markdown",
   "id": "de288020-2a51-4c91-8755-05e7911e22d1",
   "metadata": {},
   "source": [
    "from f(x) > 0, f(x) is monotome increasing$\\ (\\forall x\\ > 0)$"
   ]
  },
  {
   "cell_type": "markdown",
   "id": "e944bd27-12e3-4dc2-8b72-fc044d2046ed",
   "metadata": {},
   "source": [
    "Hence f(x) > f(0) $\\ \\forall x\\ > 0$"
   ]
  },
  {
   "cell_type": "code",
   "execution_count": 19,
   "id": "1c72f237-75d9-434b-b7cf-f842ae9b6982",
   "metadata": {},
   "outputs": [
    {
     "data": {
      "text/html": [
       "<html>\\(\\displaystyle -\\frac{2 \\, x}{x + 2} + \\log\\left(x + 1\\right) > 0\\)</html>"
      ],
      "text/latex": [
       "$\\displaystyle -\\frac{2 \\, x}{x + 2} + \\log\\left(x + 1\\right) > 0$"
      ],
      "text/plain": [
       "-2*x/(x + 2) + log(x + 1) > 0"
      ]
     },
     "execution_count": 19,
     "metadata": {},
     "output_type": "execute_result"
    }
   ],
   "source": [
    "h(x) > h(0)"
   ]
  },
  {
   "cell_type": "markdown",
   "id": "ff58de32-011b-4391-98b2-15b9df45528a",
   "metadata": {},
   "source": [
    "Therefore $ln(1+x) > \\frac{x}{1+\\frac{x}{2}}\\ \\textbf{(2)}$"
   ]
  },
  {
   "cell_type": "markdown",
   "id": "9421aa43-81fc-49d6-a578-5c4cdc08f921",
   "metadata": {},
   "source": [
    "#### $\\textbf{Proof of (5)}$"
   ]
  },
  {
   "cell_type": "markdown",
   "id": "8d32a0ac-52ea-426f-9b28-cc3332d611e9",
   "metadata": {},
   "source": [
    "Manipulate the inequality"
   ]
  },
  {
   "cell_type": "markdown",
   "id": "4083682b-3286-49e8-b465-89e70498f4c7",
   "metadata": {},
   "source": [
    "$$\\begin{eqnarray}\n",
    "ln(x)\\le x-1\\ \\ \\ \\forall x\\ > -1\\\\\n",
    "\\end{eqnarray}$$"
   ]
  },
  {
   "cell_type": "code",
   "execution_count": 22,
   "id": "168aef8e-f152-4fb1-9d52-04ada1a68bba",
   "metadata": {},
   "outputs": [
    {
     "data": {
      "text/html": [
       "<html>\\(\\displaystyle -x + \\log\\left(x\\right) + 1\\)</html>"
      ],
      "text/latex": [
       "$\\displaystyle -x + \\log\\left(x\\right) + 1$"
      ],
      "text/plain": [
       "-x + log(x) + 1"
      ]
     },
     "execution_count": 22,
     "metadata": {},
     "output_type": "execute_result"
    }
   ],
   "source": [
    "f2(x) = ln(x) -x + 1 ;f2(x)"
   ]
  },
  {
   "cell_type": "code",
   "execution_count": 23,
   "id": "5463a0ed-ad36-41ba-9481-5e7a9e36e32b",
   "metadata": {},
   "outputs": [
    {
     "data": {
      "text/html": [
       "<html>\\(\\displaystyle \\frac{1}{x} - 1\\)</html>"
      ],
      "text/latex": [
       "$\\displaystyle \\frac{1}{x} - 1$"
      ],
      "text/plain": [
       "1/x - 1"
      ]
     },
     "execution_count": 23,
     "metadata": {},
     "output_type": "execute_result"
    }
   ],
   "source": [
    "f2p(x) = diff(f2(x)) ; f2p(x)"
   ]
  },
  {
   "cell_type": "markdown",
   "id": "5abf6e5f-89d0-444c-9cb9-f774f1dce67d",
   "metadata": {},
   "source": [
    "Therefore"
   ]
  },
  {
   "cell_type": "markdown",
   "id": "efbb73d7-78b6-4f7d-bd6d-00f128c1cd48",
   "metadata": {},
   "source": [
    "$$\\begin{eqnarray}\n",
    "x=1\\ for\\ 0<x\\le1,\\ \\ f'(x)\\ge0\n",
    "\\end{eqnarray}$$"
   ]
  },
  {
   "cell_type": "markdown",
   "id": "ecbfc1e4-f39e-4863-8e7e-7732442a8f33",
   "metadata": {},
   "source": [
    "Hence"
   ]
  },
  {
   "cell_type": "markdown",
   "id": "d56ee2ad-7887-4c2e-97a7-ad1736815b7d",
   "metadata": {},
   "source": [
    "$$\\begin{eqnarray}\n",
    "f\\ is\\ increasing\\ on\\ (0,1]\\ for\\ 1<x,\\ f'(x)\\ < 0\\\\\n",
    "\\end{eqnarray}$$"
   ]
  },
  {
   "cell_type": "markdown",
   "id": "710eb1b1-e54c-49ec-a709-7bec44bf7590",
   "metadata": {},
   "source": [
    "Hence"
   ]
  },
  {
   "cell_type": "markdown",
   "id": "d33b7f95-89ba-4a39-88e6-47f7f2a66a24",
   "metadata": {},
   "source": [
    "$$\\begin{eqnarray}\n",
    "f\\ is\\ decreasing\\ on\\ (1,\\infty)\n",
    "\\end{eqnarray}$$"
   ]
  },
  {
   "cell_type": "code",
   "execution_count": 25,
   "id": "34f72e90-2d56-4bdb-a19d-2806d323bb7d",
   "metadata": {},
   "outputs": [
    {
     "data": {
      "text/html": [
       "<html>\\(\\displaystyle 0\\)</html>"
      ],
      "text/latex": [
       "$\\displaystyle 0$"
      ],
      "text/plain": [
       "0"
      ]
     },
     "execution_count": 25,
     "metadata": {},
     "output_type": "execute_result"
    }
   ],
   "source": [
    "f2(1)"
   ]
  },
  {
   "cell_type": "markdown",
   "id": "5942dfa4-c7a7-4f0c-b232-905513fa15d0",
   "metadata": {},
   "source": [
    "so (1,0) is the global maximum"
   ]
  },
  {
   "cell_type": "markdown",
   "id": "80c4bd90-9522-444f-b9af-ecd439b05e71",
   "metadata": {},
   "source": [
    "Hence,"
   ]
  },
  {
   "cell_type": "markdown",
   "id": "86d04417-b373-4c9d-847a-9b545e3092aa",
   "metadata": {},
   "source": [
    "$$\\begin{eqnarray}\n",
    "f(x) \\le 0\\ \\ \\forall x\\ > 0\n",
    "\\end{eqnarray}$$"
   ]
  },
  {
   "cell_type": "markdown",
   "id": "e59e7b2e-613a-4c5e-96a2-1cb98a2d76c5",
   "metadata": {},
   "source": [
    "Therefore"
   ]
  },
  {
   "cell_type": "markdown",
   "id": "2fe524be-0c4b-47c2-a09f-e5bf5e258a5f",
   "metadata": {},
   "source": [
    "$$\\begin{eqnarray}\n",
    "ln(x) - x + 1 \\le 0\\\\\n",
    "\\end{eqnarray}$$"
   ]
  },
  {
   "cell_type": "markdown",
   "id": "c0397f0e-c9c5-4765-a693-78727771afdd",
   "metadata": {},
   "source": [
    "$$\\begin{eqnarray}\n",
    "&\\Rightarrow&ln(x)\\le x-1\\ \\forall x\\ > 0\n",
    "\\end{eqnarray}$$"
   ]
  }
 ],
 "metadata": {
  "kernelspec": {
   "display_name": "SageMath 10.6",
   "language": "sage",
   "name": "sagemath"
  },
  "language_info": {
   "codemirror_mode": {
    "name": "ipython",
    "version": 3
   },
   "file_extension": ".py",
   "mimetype": "text/x-python",
   "name": "python",
   "nbconvert_exporter": "python",
   "pygments_lexer": "ipython3",
   "version": "3.12.3"
  }
 },
 "nbformat": 4,
 "nbformat_minor": 5
}
