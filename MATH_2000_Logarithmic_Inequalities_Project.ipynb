# MATH 2000 Logarithmic Inequalities Project
%display latex

x = var('x')
newNums = []

# inequality and subbed in variables
f(x) = x/(1/2*x+1) <= ln(x+1) ; f(x)
f(1) # output: 1/2 <=log(2)
f(2) # output: 2/3 <=log(3)

# finding the derivative of the function
g(x) = ln(x+1) - x/(1/2*x+1) ; g(x)
gp(x) = derivative(f(x), x) ; gp(x).simplify_full()

# displaying the derivative values
for i in range(1,40):
    newNums.append(fp(i))
