# MATH 2000 Logarithmic Inequalities Project

%display latex
x = var('x')

## (1) $\frac{x}{1+x} \le ln(1 + x) \le x$&nbsp;&nbsp;&nbsp;&nbsp;&nbsp;&nbsp;$\forall x\ > -1$

### from (1) restrict the inequality from x > -1 to x > 0 

### Then we can have:
## (2) &nbsp;&nbsp;&nbsp;&nbsp;$\frac{x}{1+\frac{x}{2}}<ln(1+x)$&nbsp;&nbsp;$\forall x\ > 0$
## (3) &nbsp;&nbsp;&nbsp;&nbsp;$\frac{x}{1+\frac{x}{2}}>ln(1+x)$&nbsp;&nbsp;$for -1 < x< 0$

## Proof of (2)
### Take $f(x)=ln(1+x)-\frac{x}{1+\frac{x}{2}}$

f(x) = ln(1+x)
fp(x) = diff(f(x)) ; fp(x)

g(x) = (x/(1+x/2))
gp(x) = diff(g(x)).expand().simplify_full() ; gp(x)

h(x) = f(x) - g(x)
hp(x) = fp(x) - gp(x) ; hp(x)

### Notice&nbsp;&nbsp;&nbsp;&nbsp;$\forall x\ > 0$&nbsp;&nbsp;&nbsp;&nbsp;&nbsp;$1+x < 4 + 4x + x^2$
fp(x) > gp(x)

### &nbsp;&nbsp;&nbsp;&nbsp;=>$\frac{1}{1+x} - \frac{1}{4 + 4x + x^2} > 0$
### =>$f'(x) > 0$&nbsp;&nbsp;&nbsp;&nbsp;&nbsp;&nbsp;$\forall x\ > 0$
### If x = 0 then $1+x = 4+4x+x^2$     
### &nbsp;&nbsp;&nbsp;&nbsp; so&nbsp;&nbsp;$\frac{1}{1+x} - \frac{1}{4 + 4x + x^2} = 0$     
### => f'(x) = 0 for x = 0

### from f(x) > 0, f(x) is monotome increasing &nbsp;($\forall x\ > 0$)
### Hence f(x) > f(0) &nbsp;$\forall x\ > 0$

h(x) > h(0)
### Therefore $ln(1+x) > \frac{x}{1+\frac{x}{2}}$&nbsp;&nbsp;(2)

# proof three is far from done
## Proof of (3)
### Follows analogously (no need for rigorous proof)

## Proof of $ln(1+x) \le x$&nbsp;&nbsp;&nbsp;&nbsp;&nbsp;&nbsp;$\forall x\ > -1$ (5)

### Manipulate the inequality
### &nbsp;&nbsp;&nbsp;&nbsp;&nbsp;&nbsp;$ln(x)\le x-1$&nbsp;&nbsp;$\forall x\ > -1$

f2(x) = ln(x) -x + 1 ;f2(x)
f2p(x) = diff(f2(x)) ; f2p(x)

### Therefore x=1
### for&nbsp;&nbsp;&nbsp;$0<x\le1$,&nbsp;&nbsp;&nbsp;&nbsp;$f'(x)\ge0$
###    Hence, f is increasing on (0,1]
### for 1<x, f'(x) < 0
###    Hence, f is decreasing on $(1,\infty)$

f2(1)

### so (1,0) is the global maximum
### Hence $f(x) \le 0$&nbsp;&nbsp;&nbsp;&nbsp;$\forall x\ > 0$
### Therefore $ln(x) - x + 1 \le 0$
### &nbsp;&nbsp;&nbsp;&nbsp;=>$ln(x)\le x-1$&nbsp;&nbsp;&nbsp;&nbsp;$\forall x\ > 0$
