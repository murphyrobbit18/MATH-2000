{
 "cells": [
  {
   "cell_type": "markdown",
   "id": "3f6e5de4-d3be-45bf-ac6c-196d9aac6c15",
   "metadata": {},
   "source": [
    "# MATH 2000 Logarithmic Inequalities Project"
   ]
  },
  {
   "cell_type": "code",
   "execution_count": 35,
   "id": "7e6fe62e-b1a4-4cb7-9008-76fcc252e80c",
   "metadata": {},
   "outputs": [],
   "source": [
    "%display latex"
   ]
  },
  {
   "cell_type": "code",
   "execution_count": 36,
   "id": "8a491137-920b-48ae-a644-6c991822c40c",
   "metadata": {},
   "outputs": [],
   "source": [
    "x = var('x')"
   ]
  },
  {
   "cell_type": "markdown",
   "id": "a28f6dda-94ab-489c-b565-116a6c068f8d",
   "metadata": {},
   "source": [
    "(1)$\\frac{x}{1+x} \\le ln(1 + x) \\le x$ $\\forall x\\ > -1$"
   ]
  },
  {
   "cell_type": "markdown",
   "id": "4bae6941-449a-43df-89c7-25b0b977b536",
   "metadata": {},
   "source": [
    "from (1) restrict the inequality from x > -1 to x > 0 "
   ]
  },
  {
   "cell_type": "markdown",
   "id": "6f194eac-7743-4966-8cdf-da5ffbef1bf7",
   "metadata": {},
   "source": [
    "Then we can have:"
   ]
  },
  {
   "cell_type": "markdown",
   "id": "0e207620-e8c7-407b-bb61-d7c2420be4b9",
   "metadata": {},
   "source": [
    "(2)$\\frac{x}{1+\\frac{x}{2}}<ln(1+x)$&nbsp;&nbsp;$\\forall x\\ > 0$𝑥"
   ]
  },
  {
   "cell_type": "markdown",
   "id": "ea748efd-b880-46a8-9628-79a6f81575b2",
   "metadata": {},
   "source": [
    "(3) &nbsp;&nbsp;&nbsp;&nbsp;$\\frac{x}{1+\\frac{x}{2}}>ln(1+x)$&nbsp;&nbsp;$for -1 < x< 0$"
   ]
  },
  {
   "cell_type": "code",
   "execution_count": 42,
   "id": "28afc67e-4941-4fc4-b821-47b8b2dcda8c",
   "metadata": {},
   "outputs": [],
   "source": [
    "ineq = (x/(1+x) <= ln(1+x) <=x)"
   ]
  },
  {
   "cell_type": "markdown",
   "id": "3ce0209a-4bf4-4091-9f8c-fe637deb6b27",
   "metadata": {},
   "source": [
    "Proof of (2)"
   ]
  },
  {
   "cell_type": "markdown",
   "id": "a21f8e1e-3d14-43c5-b9ad-32327d4c0278",
   "metadata": {},
   "source": [
    "Take $f(x)=ln(1+x)-\\frac{x}{1+\\frac{x}{2}}$"
   ]
  },
  {
   "cell_type": "code",
   "execution_count": 43,
   "id": "7e7eaf98-6a62-4c93-b151-0d47a9a63506",
   "metadata": {},
   "outputs": [],
   "source": [
    "f(x) = ln(1+x)"
   ]
  },
  {
   "cell_type": "code",
   "execution_count": 39,
   "id": "ae2d8ae8-e88b-4108-b490-3f460cf524c4",
   "metadata": {},
   "outputs": [
    {
     "data": {
      "text/html": [
       "<html>\\(\\displaystyle \\frac{1}{x + 1}\\)</html>"
      ],
      "text/latex": [
       "$\\displaystyle \\frac{1}{x + 1}$"
      ],
      "text/plain": [
       "1/(x + 1)"
      ]
     },
     "execution_count": 39,
     "metadata": {},
     "output_type": "execute_result"
    }
   ],
   "source": [
    "fp(x) = diff(f(x)) ; fp(x)"
   ]
  },
  {
   "cell_type": "code",
   "execution_count": 40,
   "id": "fb5d536d-4640-4b4a-b8c6-c0d12d70a4ae",
   "metadata": {},
   "outputs": [],
   "source": [
    "g(x) = (x/(1+x/2))"
   ]
  },
  {
   "cell_type": "code",
   "execution_count": 41,
   "id": "f6ed70c7-0973-4f0b-8866-955efc402e76",
   "metadata": {},
   "outputs": [
    {
     "data": {
      "text/html": [
       "<html>\\(\\displaystyle \\frac{4}{x^{2} + 4 \\, x + 4}\\)</html>"
      ],
      "text/latex": [
       "$\\displaystyle \\frac{4}{x^{2} + 4 \\, x + 4}$"
      ],
      "text/plain": [
       "4/(x^2 + 4*x + 4)"
      ]
     },
     "execution_count": 41,
     "metadata": {},
     "output_type": "execute_result"
    }
   ],
   "source": [
    "gp(x) = diff(g(x)).expand().simplify_full() ; gp(x)"
   ]
  },
  {
   "cell_type": "code",
   "execution_count": 24,
   "id": "2f61a2db-4f36-42ee-b210-29dbaee584fc",
   "metadata": {},
   "outputs": [],
   "source": [
    "h(x) = f(x) - g(x)"
   ]
  },
  {
   "cell_type": "code",
   "execution_count": 25,
   "id": "a7dde493-2c85-4b31-b05d-7252b2eeeaf2",
   "metadata": {},
   "outputs": [
    {
     "data": {
      "text/html": [
       "<html>\\(\\displaystyle -\\frac{4}{x^{2} + 4 \\, x + 4} + \\frac{1}{x + 1}\\)</html>"
      ],
      "text/latex": [
       "$\\displaystyle -\\frac{4}{x^{2} + 4 \\, x + 4} + \\frac{1}{x + 1}$"
      ],
      "text/plain": [
       "-4/(x^2 + 4*x + 4) + 1/(x + 1)"
      ]
     },
     "execution_count": 25,
     "metadata": {},
     "output_type": "execute_result"
    }
   ],
   "source": [
    "hp(x) = fp(x) - gp(x) ; hp(x)"
   ]
  },
  {
   "cell_type": "markdown",
   "id": "faeb9eae-8e58-4ac2-a78c-08e0faed8fa5",
   "metadata": {},
   "source": [
    "Notice&nbsp;&nbsp;&nbsp;&nbsp;$\\forall x\\ > 0$&nbsp;&nbsp;&nbsp;&nbsp;&nbsp;$1+x < 4 + 4x + x^2$"
   ]
  },
  {
   "cell_type": "code",
   "execution_count": 26,
   "id": "889313ad-0eb0-4f04-a731-671b2d2e1127",
   "metadata": {},
   "outputs": [
    {
     "data": {
      "text/html": [
       "<html>\\(\\displaystyle \\frac{1}{x + 1} > \\frac{4}{x^{2} + 4 \\, x + 4}\\)</html>"
      ],
      "text/latex": [
       "$\\displaystyle \\frac{1}{x + 1} > \\frac{4}{x^{2} + 4 \\, x + 4}$"
      ],
      "text/plain": [
       "(1/(x + 1)) > 4/(x^2 + 4*x + 4)"
      ]
     },
     "execution_count": 26,
     "metadata": {},
     "output_type": "execute_result"
    }
   ],
   "source": [
    "fp(x) > gp(x)"
   ]
  },
  {
   "cell_type": "markdown",
   "id": "7655abc9-95fa-4c47-933c-2f8b1e41e781",
   "metadata": {},
   "source": [
    " &nbsp;&nbsp;&nbsp;&nbsp;=>$\\frac{1}{1+x} - \\frac{1}{4 + 4x + x^2} > 0$\n",
    " =>$f'(x) > 0$&nbsp;&nbsp;&nbsp;&nbsp;&nbsp;&nbsp;$\\forall x\\ > 0$\n",
    " If x = 0 then $1+x = 4+4x+x^2$     \n",
    " &nbsp;&nbsp;&nbsp;&nbsp; so&nbsp;&nbsp;$\\frac{1}{1+x} - \\frac{1}{4 + 4x + x^2} = 0$      => f'(x) = 0 for x = 0"
   ]
  },
  {
   "cell_type": "markdown",
   "id": "e944bd27-12e3-4dc2-8b72-fc044d2046ed",
   "metadata": {},
   "source": [
    " from f(x) > 0, f(x) is monotome increasing &nbsp;($\\forall x\\ > 0$)\n",
    " Hence f(x) > f(0) &nbsp;$\\forall x\\ > 0$"
   ]
  },
  {
   "cell_type": "code",
   "execution_count": 27,
   "id": "1c72f237-75d9-434b-b7cf-f842ae9b6982",
   "metadata": {},
   "outputs": [
    {
     "data": {
      "text/html": [
       "<html>\\(\\displaystyle -\\frac{2 \\, x}{x + 2} + \\log\\left(x + 1\\right) > 0\\)</html>"
      ],
      "text/latex": [
       "$\\displaystyle -\\frac{2 \\, x}{x + 2} + \\log\\left(x + 1\\right) > 0$"
      ],
      "text/plain": [
       "-2*x/(x + 2) + log(x + 1) > 0"
      ]
     },
     "execution_count": 27,
     "metadata": {},
     "output_type": "execute_result"
    }
   ],
   "source": [
    "h(x) > h(0)"
   ]
  },
  {
   "cell_type": "markdown",
   "id": "ff58de32-011b-4391-98b2-15b9df45528a",
   "metadata": {},
   "source": [
    "Therefore $ln(1+x) > \\frac{x}{1+\\frac{x}{2}}$&nbsp;&nbsp;(2)"
   ]
  },
  {
   "cell_type": "markdown",
   "id": "8e57702f-2fcc-4854-81e2-63fee71861c1",
   "metadata": {},
   "source": [
    "Proof of (3)"
   ]
  },
  {
   "cell_type": "markdown",
   "id": "51921499-0adc-4bb1-8543-43121bea02ff",
   "metadata": {},
   "source": [
    " Follows analogously (no need for rigorous proof)"
   ]
  },
  {
   "cell_type": "markdown",
   "id": "9421aa43-81fc-49d6-a578-5c4cdc08f921",
   "metadata": {},
   "source": [
    "Proof of $ln(1+x) \\le x$&nbsp;&nbsp;&nbsp;&nbsp;&nbsp;&nbsp;$\\forall x\\ > -1$ (5)"
   ]
  },
  {
   "cell_type": "markdown",
   "id": "8d32a0ac-52ea-426f-9b28-cc3332d611e9",
   "metadata": {},
   "source": [
    "Manipulate the inequality"
   ]
  },
  {
   "cell_type": "markdown",
   "id": "0c29da68-b8ec-4bca-bb1e-5d3b7ec6fbf4",
   "metadata": {},
   "source": [
    "$ln(x)\\le x-1$&nbsp;&nbsp;$\\forall x\\ > -1$"
   ]
  },
  {
   "cell_type": "code",
   "execution_count": 45,
   "id": "168aef8e-f152-4fb1-9d52-04ada1a68bba",
   "metadata": {},
   "outputs": [
    {
     "data": {
      "text/html": [
       "<html>\\(\\displaystyle -x + \\log\\left(x\\right) + 1\\)</html>"
      ],
      "text/latex": [
       "$\\displaystyle -x + \\log\\left(x\\right) + 1$"
      ],
      "text/plain": [
       "-x + log(x) + 1"
      ]
     },
     "execution_count": 45,
     "metadata": {},
     "output_type": "execute_result"
    }
   ],
   "source": [
    "f2(x) = ln(x) -x + 1 ;f2(x)"
   ]
  },
  {
   "cell_type": "code",
   "execution_count": 46,
   "id": "5463a0ed-ad36-41ba-9481-5e7a9e36e32b",
   "metadata": {},
   "outputs": [
    {
     "data": {
      "text/html": [
       "<html>\\(\\displaystyle \\frac{1}{x} - 1\\)</html>"
      ],
      "text/latex": [
       "$\\displaystyle \\frac{1}{x} - 1$"
      ],
      "text/plain": [
       "1/x - 1"
      ]
     },
     "execution_count": 46,
     "metadata": {},
     "output_type": "execute_result"
    }
   ],
   "source": [
    "f2p(x) = diff(f2(x)) ; f2p(x)"
   ]
  },
  {
   "cell_type": "markdown",
   "id": "2c405b5b-995f-456a-ba9c-94c5ff7d78ad",
   "metadata": {},
   "source": [
    "Therefore x=1\n",
    "for&nbsp;&nbsp;&nbsp;$0<x\\le1$,&nbsp;&nbsp;&nbsp;&nbsp;$f'(x)\\ge0$"
   ]
  },
  {
   "cell_type": "markdown",
   "id": "4df6e3b4-321c-4fa3-8d2f-937607393984",
   "metadata": {},
   "source": [
    "Hence, f is increasing on (0,1]"
   ]
  },
  {
   "cell_type": "markdown",
   "id": "f9d7c345-361f-48cf-ba87-ab242d503327",
   "metadata": {},
   "source": [
    "for 1<x, f'(x) < 0"
   ]
  },
  {
   "cell_type": "markdown",
   "id": "50ecf230-3a55-4251-85b7-6ff48db7f845",
   "metadata": {},
   "source": [
    "Hence, f is decreasing on $(1,\\infty)$"
   ]
  },
  {
   "cell_type": "code",
   "execution_count": 32,
   "id": "34f72e90-2d56-4bdb-a19d-2806d323bb7d",
   "metadata": {},
   "outputs": [
    {
     "data": {
      "text/html": [
       "<html>\\(\\displaystyle 0\\)</html>"
      ],
      "text/latex": [
       "$\\displaystyle 0$"
      ],
      "text/plain": [
       "0"
      ]
     },
     "execution_count": 32,
     "metadata": {},
     "output_type": "execute_result"
    }
   ],
   "source": [
    "f2(1)"
   ]
  },
  {
   "cell_type": "markdown",
   "id": "5942dfa4-c7a7-4f0c-b232-905513fa15d0",
   "metadata": {},
   "source": [
    "so (1,0) is the global maximum"
   ]
  },
  {
   "cell_type": "markdown",
   "id": "b6af12f0-7638-421f-94cd-77789268bd01",
   "metadata": {},
   "source": [
    "Hence $f(x) \\le 0$&nbsp;&nbsp;&nbsp;&nbsp;$\\forall x\\ > 0$"
   ]
  },
  {
   "cell_type": "markdown",
   "id": "e59e7b2e-613a-4c5e-96a2-1cb98a2d76c5",
   "metadata": {},
   "source": [
    "Therefore $ln(x) - x + 1 \\le 0$"
   ]
  },
  {
   "cell_type": "markdown",
   "id": "c0397f0e-c9c5-4765-a693-78727771afdd",
   "metadata": {},
   "source": [
    "&nbsp;&nbsp;&nbsp;&nbsp;=>$ln(x)\\le x-1$&nbsp;&nbsp;&nbsp;&nbsp;$\\forall x\\ > 0$"
   ]
  }
 ],
 "metadata": {
  "kernelspec": {
   "display_name": "SageMath 10.6",
   "language": "sage",
   "name": "sagemath"
  },
  "language_info": {
   "codemirror_mode": {
    "name": "ipython",
    "version": 3
   },
   "file_extension": ".py",
   "mimetype": "text/x-python",
   "name": "python",
   "nbconvert_exporter": "python",
   "pygments_lexer": "ipython3",
   "version": "3.12.3"
  }
 },
 "nbformat": 4,
 "nbformat_minor": 5
}
